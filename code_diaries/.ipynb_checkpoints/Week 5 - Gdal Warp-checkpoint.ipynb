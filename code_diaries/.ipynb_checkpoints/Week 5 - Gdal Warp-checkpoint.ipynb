{
 "cells": [
  {
   "cell_type": "markdown",
   "id": "22d2db35",
   "metadata": {},
   "source": [
    "This will be used to change the rasters to the same size <br>\n",
    "Suggested workflow: <br>\n",
    "-check if rasters are the same size, if yes: <br>\n",
    "    ->gdal calc <br>\n",
    "--if not, <br>\n",
    "    ->Find mix,max rasters (could even use gdal info for now..) <br>\n",
    "    ->gdal warp to same size <br>\n",
    "    ->gdal calc <br>"
   ]
  },
  {
   "cell_type": "code",
   "execution_count": 2,
   "id": "076091d3",
   "metadata": {},
   "outputs": [],
   "source": [
    "#Commandss:\n",
    "#gdalwarp -te (min x min y max x max y) inraster.tif outraster.tif"
   ]
  },
  {
   "cell_type": "markdown",
   "id": "053161be",
   "metadata": {},
   "source": [
    "command: <br>\n",
    "python %CONDA_PREFIX%\\Scripts\\gdal_calc.py A input.tif -B input2.tif --outfile=result.tif --calc=\"A-B\""
   ]
  },
  {
   "cell_type": "markdown",
   "id": "7d0d6dbf",
   "metadata": {},
   "source": [
    "python %CONDA_PREFIX%\\Scripts\\gdal_calc.py A H:\\Metro-Van\\2021\\DEM\\Coreg_STM\\warp\\VAN_P01_coregwarp_1.tif B H:\\Metro-Van\\2021\\DEM\\Baseline_Master_Dataset_WGS84\\VAN_snowfree_merged_wgs84_utm10_itrf08_epoch2002_dz20cm_1mDEM.tif --outfile=H:\\Metro-Van\\2021\\DEM\\SD_gdal\\VAN_P01_sd.tif --calc=\"A-B\""
   ]
  },
  {
   "cell_type": "code",
   "execution_count": null,
   "id": "0609579f",
   "metadata": {},
   "outputs": [],
   "source": [
    "gdalwarp -te (min x min y max x max y) inraster.tif outraster.tif\n",
    "gdalwarp -te 380836.000 5449162.000 392000.000 5465596.000 H:\\Englishman\\2021\\DEMs\\co-registered_STM\\EGM_P01_STM_coreg.tif H:\\Englishman\\2021\\DEMs\\co-registered_STM\\EGM_P01_warp.tif \n",
    "gdalwarp -te 380836.000 5449162.000 392000.000 5465596.000 H:\\Englishman\\2021\\DEMs\\co-registered_STM\\EGM_P02_STM_coreg.tif H:\\Englishman\\2021\\DEMs\\co-registered_STM\\EGM_P02_warp.tif\n",
    "        gdalwarp -te 380836.000 5449162.000 392000.000 5465596.000 H:\\Englishman\\2021\\DEMs\\co-registered_STM\\EGM_P03_STM_coreg.tif H:\\Englishman\\2021\\DEMs\\co-registered_STM\\EGM_P03_warp.tif"
   ]
  },
  {
   "cell_type": "code",
   "execution_count": null,
   "id": "8aa3b521",
   "metadata": {},
   "outputs": [],
   "source": [
    "gdalwarp -te 380836.000 5449162.000 392000.000 5465596.000 H:\\Englishman\\2021\\DEMs\\co-registered_STM\\EGM_P04_STM_coreg.tif H:\\Englishman\\2021\\DEMs\\co-registered_STM\\EGM_P04_warp.tif"
   ]
  },
  {
   "cell_type": "code",
   "execution_count": null,
   "id": "a244cccd",
   "metadata": {},
   "outputs": [],
   "source": [
    "gdalwarp -te 492554.000 5472527.000 506950.000 5495031.000 H:\\Metro-Van\\2021\\GIS\\snow_depth_rasters\\VAN_P01_SD_clean.tif H:\\Metro-Van\\2021\\GIS\\snow_depth_rasters\\VAN_P01_warp.tif"
   ]
  },
  {
   "cell_type": "code",
   "execution_count": null,
   "id": "aca514ba",
   "metadata": {},
   "outputs": [],
   "source": [
    "gdalwarp -te 380836.000 5449162.000 392000.000 5465596.000 H:\\Englishman\\2021\\DEMs\\co-registered_STM\\EGM_P05_STM_coreg.tif H:\\Englishman\\2021\\DEMs\\co-registered_STM\\EGM_P05_warp.tif"
   ]
  },
  {
   "cell_type": "code",
   "execution_count": null,
   "id": "4bafee0a",
   "metadata": {},
   "outputs": [],
   "source": [
    "python %CONDA_PREFIX%\\Scripts\\gdal_calc.py -A H:\\Metro-Van\\2021\\DEM\\Coreg_STM\\warp\\VAN_P01_coregwarp_1.tif -B H:\\Metro-Van\\2021\\DEM\\Baseline_Master_Dataset_WGS84\\VAN_snowfree_merged_wgs84_utm10_itrf08_epoch2002_dz20cm_1mDEM.tif --outfile=H:\\Metro-Van\\2021\\DEM\\SD_gdal\\VAN_P01_sd.tif --calc=\"A-B\""
   ]
  },
  {
   "cell_type": "code",
   "execution_count": null,
   "id": "02b7e790",
   "metadata": {},
   "outputs": [],
   "source": [
    "python %CONDA_PREFIX%\\Scripts\\gdal_calc.py -A H:\\Englishman\\2021\\DEMs\\co-registered_STM\\EGM_P01_warp.tif -B H:\\Englishman\\2021\\DEMs\\bare_earth\\EGM_BE_wgs84_1m.tif --outfile=H:\\Englishman\\2021\\DEMs\\raw_SD\\EGM_P01_SD_raw.tif --calc=\"A-B\"\n",
    "python %CONDA_PREFIX%\\Scripts\\gdal_calc.py -A H:\\Englishman\\2021\\DEMs\\co-registered_STM\\EGM_P02_warp.tif -B H:\\Englishman\\2021\\DEMs\\bare_earth\\EGM_BE_wgs84_1m.tif --outfile=H:\\Englishman\\2021\\DEMs\\raw_SD\\EGM_P02_SD_raw.tif --calc=\"A-B\"\n",
    "python %CONDA_PREFIX%\\Scripts\\gdal_calc.py -A H:\\Englishman\\2021\\DEMs\\co-registered_STM\\EGM_P03_warp.tif -B H:\\Englishman\\2021\\DEMs\\bare_earth\\EGM_BE_wgs84_1m.tif --outfile=H:\\Englishman\\2021\\DEMs\\raw_SD\\EGM_P03_SD_raw.tif --calc=\"A-B\"\n",
    "python %CONDA_PREFIX%\\Scripts\\gdal_calc.py -A H:\\Englishman\\2021\\DEMs\\co-registered_STM\\EGM_P04_warp.tif -B H:\\Englishman\\2021\\DEMs\\bare_earth\\EGM_BE_wgs84_1m.tif --outfile=H:\\Englishman\\2021\\DEMs\\raw_SD\\EGM_P04_SD_raw.tif --calc=\"A-B\"\n",
    "\n",
    "\n",
    "\n",
    "\n",
    "Jupyter Notebook\n",
    "Week 5 - Gdal Warp Last Checkpoint: 21 hours ago (unsaved changes) Current Kernel Logo \n",
    "\n",
    "Python 3 (ipykernel)\n",
    "\n",
    "    File\n",
    "    Edit\n",
    "    View\n",
    "    Insert\n",
    "    Cell\n",
    "    Kernel\n",
    "    Widgets\n",
    "    Help\n",
    "\n",
    "This will be used to change the rasters to the same size\n",
    "Suggested workflow:\n",
    "-check if rasters are the same size, if yes:\n",
    "->gdal calc\n",
    "--if not,\n",
    "->Find mix,max rasters (could even use gdal info for now..)\n",
    "->gdal warp to same size\n",
    "->gdal calc\n",
    "\n",
    "1\n",
    "\n",
    "#Commandss:\n",
    "\n",
    "2\n",
    "\n",
    "#gdalwarp -te (min x min y max x max y) inraster.tif outraster.tif\n",
    "\n",
    "1\n",
    "\n",
    "command: <br>\n",
    "\n",
    "2\n",
    "\n",
    "python %CONDA_PREFIX%\\Scripts\\gdal_calc.py A input.tif -B input2.tif --outfile=result.tif --calc=\"A-B\"\n",
    "\n",
    "python %CONDA_PREFIX%\\Scripts\\gdal_calc.py A H:\\Metro-Van\\2021\\DEM\\Coreg_STM\\warp\\VAN_P01_coregwarp_1.tif B H:\\Metro-Van\\2021\\DEM\\Baseline_Master_Dataset_WGS84\\VAN_snowfree_merged_wgs84_utm10_itrf08_epoch2002_dz20cm_1mDEM.tif --outfile=H:\\Metro-Van\\2021\\DEM\\SD_gdal\\VAN_P01_sd.tif --calc=\"A-B\"\n",
    "1\n",
    "\n",
    "gdalwarp -te (min x min y max x max y) inraster.tif outraster.tif\n",
    "\n",
    "2\n",
    "\n",
    "gdalwarp -te 380836.000 5449162.000 392000.000 5465596.000 H:\\Englishman\\2021\\DEMs\\co-registered_STM\\EGM_P01_STM_coreg.tif H:\\Englishman\\2021\\DEMs\\co-registered_STM\\EGM_P01_warp.tif \n",
    "\n",
    "3\n",
    "\n",
    "gdalwarp -te 380836.000 5449162.000 392000.000 5465596.000 H:\\Englishman\\2021\\DEMs\\co-registered_STM\\EGM_P02_STM_coreg.tif H:\\Englishman\\2021\\DEMs\\co-registered_STM\\EGM_P02_warp.tif\n",
    "\n",
    "4\n",
    "\n",
    "        gdalwarp -te 380836.000 5449162.000 392000.000 5465596.000 H:\\Englishman\\2021\\DEMs\\co-registered_STM\\EGM_P03_STM_coreg.tif H:\\Englishman\\2021\\DEMs\\co-registered_STM\\EGM_P03_warp.tif\n",
    "\n",
    "1\n",
    "\n",
    "gdalwarp -te 380836.000 5449162.000 392000.000 5465596.000 H:\\Englishman\\2021\\DEMs\\co-registered_STM\\EGM_P04_STM_coreg.tif H:\\Englishman\\2021\\DEMs\\co-registered_STM\\EGM_P04_warp.tif\n",
    "\n",
    "1\n",
    "\n",
    "gdalwarp -te 380836.000 5449162.000 392000.000 5465596.000 H:\\Englishman\\2021\\DEMs\\co-registered_STM\\EGM_P05_STM_coreg.tif H:\\Englishman\\2021\\DEMs\\co-registered_STM\\EGM_P05_warp.tif\n",
    "\n",
    "1\n",
    "\n",
    "python %CONDA_PREFIX%\\Scripts\\gdal_calc.py -A H:\\Metro-Van\\2021\\DEM\\Coreg_STM\\warp\\VAN_P01_coregwarp_1.tif -B H:\\Metro-Van\\2021\\DEM\\Baseline_Master_Dataset_WGS84\\VAN_snowfree_merged_wgs84_utm10_itrf08_epoch2002_dz20cm_1mDEM.tif --outfile=H:\\Metro-Van\\2021\\DEM\\SD_gdal\\VAN_P01_sd.tif --calc=\"A-B\"\n",
    "\n",
    "1\n",
    "\n",
    "python %CONDA_PREFIX%\\Scripts\\gdal_calc.py -A H:\\Metro-Van\\2021\\DEM\\Coreg_STM\\warp\\VAN_P01_coregwarp_1.tif -B H:\\Metro-Van\\2021\\DEM\\Baseline_Master_Dataset_WGS84\\VAN_snowfree_merged_wgs84_utm10_itrf08_epoch2002_dz20cm_1mDEM.tif --outfile=H:\\Metro-Van\\2021\\DEM\\SD_gdal\\VAN_P01_sd.tif --calc=\"A-B\""
   ]
  },
  {
   "cell_type": "code",
   "execution_count": null,
   "id": "c0b808c7",
   "metadata": {},
   "outputs": [],
   "source": [
    "#Subtract and "
   ]
  }
 ],
 "metadata": {
  "kernelspec": {
   "display_name": "Python 3 (ipykernel)",
   "language": "python",
   "name": "python3"
  },
  "language_info": {
   "codemirror_mode": {
    "name": "ipython",
    "version": 3
   },
   "file_extension": ".py",
   "mimetype": "text/x-python",
   "name": "python",
   "nbconvert_exporter": "python",
   "pygments_lexer": "ipython3",
   "version": "3.10.2"
  }
 },
 "nbformat": 4,
 "nbformat_minor": 5
}
