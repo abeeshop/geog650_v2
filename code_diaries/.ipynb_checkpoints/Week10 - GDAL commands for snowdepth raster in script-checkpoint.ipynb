{
 "cells": [
  {
   "cell_type": "code",
   "execution_count": 14,
   "id": "5469d0bb",
   "metadata": {},
   "outputs": [],
   "source": [
    "from osgeo import gdal\n",
    "import numpy\n",
    "import os\n",
    "import rasterio as rio\n",
    "import subprocess"
   ]
  },
  {
   "cell_type": "code",
   "execution_count": 36,
   "id": "86faf01a",
   "metadata": {},
   "outputs": [],
   "source": [
    "#file directories \n",
    "be_directory = r\"H:\\Englishman\\2021\\DEMs\\Bare_earth\\EGM_BE_wgs84_1m.tif\" \n",
    "snowon_directory = r\"H:\\Englishman\\2021\\DEMs\\co-registered_STM\\EGM_P01_STM_coreg.tif\"\n",
    "outfile = r\"H:\\Englishman\\2021\\DEMs\\testing.tif\"\n",
    "\n",
    "#my gdal install - located in my anaconda environment\n",
    "gdalcalc= r\"C:\\Anaconda\\envs\\geog650\\Scripts\\gdal_calc.py\""
   ]
  },
  {
   "cell_type": "markdown",
   "id": "24a9f77a",
   "metadata": {},
   "source": [
    "### Below code 2 code blocks work!"
   ]
  },
  {
   "cell_type": "code",
   "execution_count": 49,
   "id": "f75a8714",
   "metadata": {},
   "outputs": [
    {
     "name": "stdout",
     "output_type": "stream",
     "text": [
      "bare earth and snow on raster are different sizes\n",
      "H:\\Englishman\\2021\\DEMs\\co-registered_STM\\EGM_P01_STM_coreg_warp.tif\n"
     ]
    }
   ],
   "source": [
    "#check if the be and snow on are the same size:\n",
    "be = rio.open(be_directory)\n",
    "snowon = rio.open(snowon_directory)\n",
    "if be.shape != snow_on.shape:\n",
    "    #create new file name - adding warp extension to the snow-on raster\n",
    "    warp_directory = str(snowon_directory)[:-4] + \"_warp.tif\"\n",
    "    #Find the bounding box for the bare earth raster\n",
    "    min_x=be.bounds[0]\n",
    "    max_x=be.bounds[2]\n",
    "    min_y=be.bounds[1]\n",
    "    max_y=be.bounds[3]\n",
    "    #gdalwarp -te min_x min_y max_x max_y inraster.tif outraster.tif\n",
    "    #This one works!\n",
    "    cmd_warp = 'gdalwarp -te {} {} {} {} {} {}'.format(min_x, min_y, max_x, max_y, snowon_directory, warp_directory)\n",
    "    subprocess.run(cmd_warp, shell=True) #should exit with code 0 if succesful\n",
    "    cmd_calc = 'python {} -A {} -B {} --outfile={} --calc=\"A-B\"'.format(gdalcalc,warp_directory, be_directory, outfile)\n",
    "    #subtract the bare earth from the snow on raster\n",
    "    subprocess.run(cmd_calc, shell=True) #should exit with code 0 if succesful\n",
    "    "
   ]
  },
  {
   "cell_type": "code",
   "execution_count": 51,
   "id": "cad42ec9",
   "metadata": {},
   "outputs": [
    {
     "data": {
      "text/plain": [
       "CompletedProcess(args='gdalwarp -te 380836.0 5449162.0 392000.0 5465596.0 H:\\\\Englishman\\\\2021\\\\DEMs\\\\co-registered_STM\\\\EGM_P01_STM_coreg.tif H:\\\\Englishman\\\\2021\\\\DEMs\\\\co-registered_STM\\\\EGM_P01_STM_coreg_warp.tif', returncode=0)"
      ]
     },
     "execution_count": 51,
     "metadata": {},
     "output_type": "execute_result"
    }
   ],
   "source": [
    "#This one works!\n",
    "cmd_warp = 'gdalwarp -te {} {} {} {} {} {}'.format(min_x, min_y, max_x, max_y, snowon_directory, warp_directory)\n",
    "subprocess.run(cmd_warp, shell=True)"
   ]
  },
  {
   "cell_type": "code",
   "execution_count": 53,
   "id": "5a6a1e9d",
   "metadata": {},
   "outputs": [
    {
     "data": {
      "text/plain": [
       "CompletedProcess(args='python C:\\\\Anaconda\\\\envs\\\\geog650\\\\Scripts\\\\gdal_calc.py -A H:\\\\Englishman\\\\2021\\\\DEMs\\\\co-registered_STM\\\\EGM_P01_STM_coreg_warp.tif -B H:\\\\Englishman\\\\2021\\\\DEMs\\\\Bare_earth\\\\EGM_BE_wgs84_1m.tif --outfile=H:\\\\Englishman\\\\2021\\\\DEMs\\\\testing.tif --calc=\"A-B\"', returncode=0)"
      ]
     },
     "execution_count": 53,
     "metadata": {},
     "output_type": "execute_result"
    }
   ],
   "source": [
    "cmd_calc = 'python {} -A {} -B {} --outfile={} --calc=\"A-B\"'.format(gdalcalc,warp_directory, be_directory, outfile)\n",
    "#subtract the bare earth from the snow on raster\n",
    "subprocess.run(cmd_calc, shell=True) #should exit with code 0 if succesful"
   ]
  },
  {
   "cell_type": "code",
   "execution_count": 48,
   "id": "0d97862d",
   "metadata": {},
   "outputs": [
    {
     "data": {
      "text/plain": [
       "CompletedProcess(args='gdalwarp -te 381077.0 5449480.0 392000.0 5465525.0 H:\\\\Englishman\\\\2021\\\\DEMs\\\\Bare_earth\\\\EGM_BE_wgs84_1m.tif H:\\\\Englishman\\\\2021\\\\DEMs\\\\co-registered_STM\\\\EGM_P01_STM_coreg_warp.tif', returncode=1)"
      ]
     },
     "execution_count": 48,
     "metadata": {},
     "output_type": "execute_result"
    }
   ],
   "source": [
    "cmd_warp = 'gdalwarp -te {} {} {} {} {} {}'.format(min_x, min_y, max_x, max_y, be_directory, warp_directory)\n",
    "subprocess.run(cmd_warp, shell=True)\n",
    "\n",
    "gdalwarp -te 380836.000 5449162.000 392000.000 5465596.000 H:\\Englishman\\2021\\DEMs\\co-registered_STM\\EGM_P05_STM_coreg.tif H:\\Englishman\\2021\\DEMs\\co-registered_STM\\EGM_P05_warp.tif"
   ]
  },
  {
   "cell_type": "code",
   "execution_count": 9,
   "id": "4efe9f6a",
   "metadata": {},
   "outputs": [
    {
     "ename": "AttributeError",
     "evalue": "'numpy.ndarray' object has no attribute 'meta'",
     "output_type": "error",
     "traceback": [
      "\u001b[1;31m---------------------------------------------------------------------------\u001b[0m",
      "\u001b[1;31mAttributeError\u001b[0m                            Traceback (most recent call last)",
      "Input \u001b[1;32mIn [9]\u001b[0m, in \u001b[0;36m<cell line: 1>\u001b[1;34m()\u001b[0m\n\u001b[0;32m      3\u001b[0m be \u001b[38;5;241m=\u001b[39m be\u001b[38;5;241m.\u001b[39mread(\u001b[38;5;241m1\u001b[39m)\n\u001b[0;32m      4\u001b[0m snow_on \u001b[38;5;241m=\u001b[39m snow_on\u001b[38;5;241m.\u001b[39mread(\u001b[38;5;241m1\u001b[39m)\n\u001b[1;32m----> 5\u001b[0m meta \u001b[38;5;241m=\u001b[39m \u001b[43msnow_on\u001b[49m\u001b[38;5;241;43m.\u001b[39;49m\u001b[43mmeta\u001b[49m \n\u001b[0;32m      6\u001b[0m sd \u001b[38;5;241m=\u001b[39m snow_on \u001b[38;5;241m-\u001b[39m be\n",
      "\u001b[1;31mAttributeError\u001b[0m: 'numpy.ndarray' object has no attribute 'meta'"
     ]
    }
   ],
   "source": [
    "#check if the be and snow on are the same size:\n",
    "be = rio.open(be)\n",
    "snowon = rio.open(snowon)\n",
    "if be.shape != snow_on.shape:\n",
    "    print(\"bare earth and snow on raster are different sizes\")\n",
    "    file_output = str(snowon)[:-4] + \"_warp.tif\"\n",
    "    print(file_output)\n",
    "    \n",
    "    #snowon = gdal.Warp()\n",
    "    #warp, and then call the subprocess to calc\n",
    "\n",
    "else:\n",
    "    cmd = 'python {} -A {} -B {} --outfile={} --calc=\"A-B\"'.format(gdalcalc,warp_directory, be_directory, outfile)\n",
    "    #subtract the bare earth from the snow on raster\n",
    "    subprocess.run(cmd, shell=True)\n",
    "    \n",
    "\n",
    "    meta = snow_on.meta\n",
    "    #proceed to gdal calc function\n",
    "    be = be.read(1)\n",
    "    snow_on = snow_on.read(1)\n",
    "    meta = snow_on.meta \n",
    "    sd = snow_on - be\n",
    "    "
   ]
  },
  {
   "cell_type": "code",
   "execution_count": 19,
   "id": "f4b8cd11",
   "metadata": {},
   "outputs": [
    {
     "data": {
      "text/plain": [
       "CompletedProcess(args='python C:\\\\Anaconda\\\\envs\\\\geog650\\\\Scripts\\\\gdal_calc.py -A H:\\\\Englishman\\\\2021\\\\DEMs\\\\co-registered_STM\\\\EGM_P01_warp.tif -B H:\\\\Englishman\\\\2021\\\\DEMs\\\\bare_earth\\\\EGM_BE_wgs84_1m.tif --outfile=H:\\\\Englishman\\\\2021\\\\DEMs\\\\TEST_subprocess_2.tif --calc=\"A-B\"', returncode=0)"
      ]
     },
     "execution_count": 19,
     "metadata": {},
     "output_type": "execute_result"
    }
   ],
   "source": [
    "cmd_string = 'python C:\\Anaconda\\envs\\geog650\\Scripts\\gdal_calc.py -A H:\\\\Englishman\\\\2021\\\\DEMs\\\\co-registered_STM\\\\EGM_P01_warp.tif -B H:\\\\Englishman\\\\2021\\\\DEMs\\\\bare_earth\\\\EGM_BE_wgs84_1m.tif --outfile=H:\\\\Englishman\\\\2021\\\\DEMs\\\\TEST_subprocess_2.tif --calc=\"A-B\"'\n",
    "subprocess.run(cmd_string, shell=True)"
   ]
  },
  {
   "cell_type": "code",
   "execution_count": 22,
   "id": "a1046529",
   "metadata": {},
   "outputs": [
    {
     "data": {
      "text/plain": [
       "'python C:\\\\Anaconda\\\\envs\\\\geog650\\\\Scripts\\\\gdal_calc.py -A H:\\\\Cruickshank\\\\2021\\\\DEMs\\\\Coregistered_STM\\\\CRU_P01_coregSTM.tif -B H:\\\\Cruickshank\\\\2021\\\\DEMs\\\\Bare_earth --outfile=H:\\\\Cruickshank\\\\2021\\\\DEMs\\\\testing_subprocess_cmd.tif --calc=\"A-B\"'"
      ]
     },
     "metadata": {},
     "output_type": "display_data"
    }
   ],
   "source": [
    "cmd_string_test = 'python ' + str(gdalcalc) + ' -A ' + str(snowon) + ' -B ' + str(be) + ' --outfile=' + str(outfile) + ' --calc=\"A-B\"'\n",
    "display(cmd_string_test)"
   ]
  },
  {
   "cell_type": "code",
   "execution_count": 33,
   "id": "b82c018b",
   "metadata": {},
   "outputs": [
    {
     "data": {
      "text/plain": [
       "CompletedProcess(args='python C:\\\\Anaconda\\\\envs\\\\geog650\\\\Scripts\\\\gdal_calc.py -A H:\\\\Cruickshank\\\\2021\\\\DEMs\\\\Coregistered_STM\\\\CRU_P01_coregSTM.tif -B H:\\\\Cruickshank\\\\2021\\\\DEMs\\\\Bare_earth\\\\CRU_be.tif --outfile=H:\\\\Cruickshank\\\\2021\\\\DEMs\\\\test.tif --calc=\"A-B\"', returncode=0)"
      ]
     },
     "execution_count": 33,
     "metadata": {},
     "output_type": "execute_result"
    }
   ],
   "source": [
    "#Subs in variables to the command string\n",
    "cmd_string_test_2 = 'python {} -A {} -B {} --outfile={} --calc=\"A-B\"'.format(gdalcalc,snowon, be, outfile)\n",
    "#call subprocess command - activating the shell to run, ensure the environment required is active\n",
    "subprocess.run(cmd_string_test_2, shell=True)"
   ]
  },
  {
   "cell_type": "code",
   "execution_count": null,
   "id": "3dce8564",
   "metadata": {},
   "outputs": [],
   "source": [
    "sd_out = \"CRU_P01_SD.tif\"\n",
    "#output the tif file\n",
    "with rio.open(sd_out, \"w\", **meta) as dst:\n",
    "    dst.write(sd, 1)"
   ]
  },
  {
   "cell_type": "code",
   "execution_count": null,
   "id": "891969d8",
   "metadata": {},
   "outputs": [],
   "source": [
    "#Assign the bounding box for the to \n",
    "min_x = be.bounds[0]\n",
    "max_x=be.bounds[2]\n",
    "min_y=be.bounds[1]\n",
    "max_y=be.bounds[3]\n",
    "print(min_x, max_x, min_y, max_y)"
   ]
  },
  {
   "cell_type": "code",
   "execution_count": null,
   "id": "e3e44cda",
   "metadata": {},
   "outputs": [],
   "source": []
  }
 ],
 "metadata": {
  "kernelspec": {
   "display_name": "Python 3 (ipykernel)",
   "language": "python",
   "name": "python3"
  },
  "language_info": {
   "codemirror_mode": {
    "name": "ipython",
    "version": 3
   },
   "file_extension": ".py",
   "mimetype": "text/x-python",
   "name": "python",
   "nbconvert_exporter": "python",
   "pygments_lexer": "ipython3",
   "version": "3.10.2"
  }
 },
 "nbformat": 4,
 "nbformat_minor": 5
}
