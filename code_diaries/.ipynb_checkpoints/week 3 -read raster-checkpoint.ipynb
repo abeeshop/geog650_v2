{
 "cells": [
  {
   "cell_type": "code",
   "execution_count": 2,
   "id": "ee26cb09",
   "metadata": {},
   "outputs": [],
   "source": [
    "import matplotlib.pyplot as plt\n",
    "import geopandas as gpd\n",
    "import rasterio as rio\n",
    "from rasterio.plot import show\n",
    "import cartopy.crs as ccrs\n",
    "import os\n",
    "\n",
    "%matplotlib inline"
   ]
  },
  {
   "cell_type": "code",
   "execution_count": 4,
   "id": "d5072902",
   "metadata": {},
   "outputs": [],
   "source": [
    "metro_be = rio.open(r\"H:\\Metro-Van\\2021\\DEM\\Baseline_Master_Dataset_WGS84\\revised_jan27\\21_3008_00_snowfree_merged_wgs84_utm10_itrf08_epoch2002_dz20cm_1mDEM.tif\")"
   ]
  },
  {
   "cell_type": "code",
   "execution_count": 5,
   "id": "662431ed",
   "metadata": {},
   "outputs": [
    {
     "data": {
      "text/plain": [
       "{'driver': 'GTiff',\n",
       " 'dtype': 'float32',\n",
       " 'nodata': -9999.0,\n",
       " 'width': 14396,\n",
       " 'height': 22504,\n",
       " 'count': 1,\n",
       " 'crs': None,\n",
       " 'transform': Affine(1.0, 0.0, 492554.0,\n",
       "        0.0, -1.0, 5495031.0)}"
      ]
     },
     "metadata": {},
     "output_type": "display_data"
    }
   ],
   "source": [
    "display(metro_be.meta)"
   ]
  },
  {
   "cell_type": "code",
   "execution_count": 6,
   "id": "205480d2",
   "metadata": {},
   "outputs": [],
   "source": [
    "metro_be_previous = rio.open(r\"H:\\Metro-Van\\2021\\DEM\\Baseline_Master_Dataset_WGS84\\1m_DEM_WGS84_z10_ellips.tif\")"
   ]
  },
  {
   "cell_type": "code",
   "execution_count": 7,
   "id": "70c6c626",
   "metadata": {
    "scrolled": true
   },
   "outputs": [
    {
     "data": {
      "text/plain": [
       "{'driver': 'GTiff',\n",
       " 'dtype': 'float32',\n",
       " 'nodata': -3.4028234663852886e+38,\n",
       " 'width': 14395,\n",
       " 'height': 22503,\n",
       " 'count': 1,\n",
       " 'crs': CRS.from_wkt('PROJCS[\"ITRF2014 / UTM zone 10N + Ellipsoidal Height\",GEOGCS[\"ITRF2014\",DATUM[\"unnamed\",SPHEROID[\"unnamed\",6378137,298.257222101004],AUTHORITY[\"EPSG\",\"1165\"]],PRIMEM[\"Greenwich\",0],UNIT[\"degree\",0.0174532925199433,AUTHORITY[\"EPSG\",\"9122\"]],AUTHORITY[\"EPSG\",\"7912\"]],PROJECTION[\"Transverse_Mercator\"],PARAMETER[\"latitude_of_origin\",0],PARAMETER[\"central_meridian\",-123],PARAMETER[\"scale_factor\",0.9996],PARAMETER[\"false_easting\",500000],PARAMETER[\"false_northing\",0],UNIT[\"metre\",1,AUTHORITY[\"EPSG\",\"9001\"]],AXIS[\"Easting\",EAST],AXIS[\"Northing\",NORTH]]'),\n",
       " 'transform': Affine(1.0, 0.0, 492557.16638003726,\n",
       "        0.0, -1.0, 5495029.974312572)}"
      ]
     },
     "metadata": {},
     "output_type": "display_data"
    }
   ],
   "source": [
    "display(metro_be_previous.meta)"
   ]
  },
  {
   "cell_type": "code",
   "execution_count": 8,
   "id": "66718dec",
   "metadata": {},
   "outputs": [],
   "source": [
    "CRS = metro_be_previous.meta[\"crs\"]"
   ]
  },
  {
   "cell_type": "code",
   "execution_count": 9,
   "id": "030c7570",
   "metadata": {},
   "outputs": [
    {
     "data": {
      "text/plain": [
       "CRS.from_wkt('PROJCS[\"ITRF2014 / UTM zone 10N + Ellipsoidal Height\",GEOGCS[\"ITRF2014\",DATUM[\"unnamed\",SPHEROID[\"unnamed\",6378137,298.257222101004],AUTHORITY[\"EPSG\",\"1165\"]],PRIMEM[\"Greenwich\",0],UNIT[\"degree\",0.0174532925199433,AUTHORITY[\"EPSG\",\"9122\"]],AUTHORITY[\"EPSG\",\"7912\"]],PROJECTION[\"Transverse_Mercator\"],PARAMETER[\"latitude_of_origin\",0],PARAMETER[\"central_meridian\",-123],PARAMETER[\"scale_factor\",0.9996],PARAMETER[\"false_easting\",500000],PARAMETER[\"false_northing\",0],UNIT[\"metre\",1,AUTHORITY[\"EPSG\",\"9001\"]],AXIS[\"Easting\",EAST],AXIS[\"Northing\",NORTH]]')"
      ]
     },
     "metadata": {},
     "output_type": "display_data"
    }
   ],
   "source": [
    "display(CRS)"
   ]
  },
  {
   "cell_type": "code",
   "execution_count": null,
   "id": "8d4b425e",
   "metadata": {},
   "outputs": [],
   "source": []
  }
 ],
 "metadata": {
  "kernelspec": {
   "display_name": "Python 3 (ipykernel)",
   "language": "python",
   "name": "python3"
  },
  "language_info": {
   "codemirror_mode": {
    "name": "ipython",
    "version": 3
   },
   "file_extension": ".py",
   "mimetype": "text/x-python",
   "name": "python",
   "nbconvert_exporter": "python",
   "pygments_lexer": "ipython3",
   "version": "3.9.10"
  }
 },
 "nbformat": 4,
 "nbformat_minor": 5
}
