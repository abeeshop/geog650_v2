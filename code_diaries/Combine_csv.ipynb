{
 "cells": [
  {
   "cell_type": "code",
   "execution_count": 2,
   "id": "bd29365f",
   "metadata": {},
   "outputs": [],
   "source": [
    "import glob\n",
    "import os\n",
    "import pandas as pd\n",
    "import numpy as np"
   ]
  },
  {
   "cell_type": "code",
   "execution_count": 3,
   "id": "e22d1432",
   "metadata": {},
   "outputs": [],
   "source": [
    "#generate line graphs for elevation and avg swe\n",
    "#first need to combine csvs into one\n",
    "\n",
    "def combine_csv(file_name, subbasin, directory, out_directory):\n",
    "    os.chdir(directory)\n",
    "    # Match the pattern (‘csv’) and save the list of file names in the ‘all_filenames’ variable.\n",
    "    extension = 'csv'\n",
    "    df = pd.DataFrame()\n",
    "    for item in glob.glob('*.{}'.format(extension)):\n",
    "        if subbasin in item:\n",
    "            file = pd.read_csv(item)\n",
    "            df = df.append(file)\n",
    "    df = df.drop_duplicates()\n",
    "    # export to csv\n",
    "    os.chdir(out_directory)\n",
    "    df.to_csv(file_name, index=False)\n",
    "\n",
    "combine_csv(\"VAN_Seymour_asp_all.csv\", \"Seymour\",r\"H:\\Metro-Van\\2021\\Analysis\\swe_tables\\asp\", r\"H:\\Metro-Van\\2021\\Analysis\\swe_tables\\asp\") \n",
    "#combine_csv(\"zbin_\" + subbasin + \"_all.csv\", \"Arrowsmith\", r\"H:\\Englishman\\2021\\Analysis\\swe_tables\\processing\\zbin\", r\"H:\\Englishman\\2021\\Analysis\\swe_tables\\processing\\graphs\")\n",
    "#combine_csv(\"aspect_Arrowmsmith_all.csv\", \"Arrowsmith\", r\"H:\\Englishman\\2021\\Analysis\\swe_tables\\processing\\aspect\", r\"H:\\Englishman\\2021\\Analysis\\swe_tables\\processing\\graphs\")"
   ]
  },
  {
   "cell_type": "code",
   "execution_count": 6,
   "id": "1edac8e2",
   "metadata": {},
   "outputs": [],
   "source": [
    "def combine_csv_for_total_watervolume(file_name, directory, out_directory):\n",
    "    os.chdir(directory)\n",
    "    # Match the pattern (‘csv’) and save the list of file names in the ‘all_filenames’ variable.\n",
    "    extension = 'csv'\n",
    "    df = pd.DataFrame()\n",
    "    for item in glob.glob('*.{}'.format(extension)):\n",
    "            file = pd.read_csv(item)\n",
    "            file[\"sub_basin\"]=item[8:9]\n",
    "            df = df.append(file)\n",
    "    df = df.drop_duplicates()\n",
    "    df = df.groupby(by=(\"Phase\"), as_index=False)[[\"water_vol\", \"lower_wv\", \"upper_wv\"]].sum()\n",
    "    # export to csv\n",
    "    os.chdir(out_directory)\n",
    "    df.to_csv(file_name, index=False)\n",
    "\n",
    "combine_csv_for_total_watervolume(\"Englishman_watervol_stackedbar.csv\", r\"H:\\Englishman\\2021\\Analysis\\swe_tables\\processing\\zbin\", r\"H:\\Englishman\\2021\\Analysis\\swe_tables\\processing\\graphs\")"
   ]
  }
 ],
 "metadata": {
  "kernelspec": {
   "display_name": "Python 3 (ipykernel)",
   "language": "python",
   "name": "python3"
  },
  "language_info": {
   "codemirror_mode": {
    "name": "ipython",
    "version": 3
   },
   "file_extension": ".py",
   "mimetype": "text/x-python",
   "name": "python",
   "nbconvert_exporter": "python",
   "pygments_lexer": "ipython3",
   "version": "3.10.2"
  }
 },
 "nbformat": 4,
 "nbformat_minor": 5
}
