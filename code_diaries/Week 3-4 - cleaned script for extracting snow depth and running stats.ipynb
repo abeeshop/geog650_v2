{
 "cells": [
  {
   "cell_type": "code",
   "execution_count": 6,
   "id": "c235e0da",
   "metadata": {},
   "outputs": [],
   "source": [
    "from osgeo import gdal\n",
    "import matplotlib.pyplot as plt\n",
    "import numpy as np\n",
    "import rasterio as rio\n",
    "from rasterio.plot import show\n",
    "from rasterio.mask import mask\n",
    "import pandas as pd\n",
    "import fiona\n",
    "import os\n",
    "import glob\n",
    "from scipy import sparse\n",
    "%matplotlib inline"
   ]
  },
  {
   "cell_type": "code",
   "execution_count": null,
   "id": "3a06be5c",
   "metadata": {},
   "outputs": [],
   "source": []
  },
  {
   "cell_type": "code",
   "execution_count": 198,
   "id": "9353cbba",
   "metadata": {},
   "outputs": [
    {
     "name": "stdout",
     "output_type": "stream",
     "text": [
      "sub-basin: EGM_P05_Arrowsmith\n",
      "phase: P05\n"
     ]
    }
   ],
   "source": [
    "#Identify watershed by three letter acronymn and phase\n",
    "wshed = \"EGM\"\n",
    "phase = \"P05\"\n",
    "subbasin= \"Arrowsmith\"\n",
    "\n",
    "#raster cell resolution\n",
    "resolution = 1\n",
    "\n",
    "name = wshed + \"_\" + str(phase)\n",
    "subbasin_name = str(wshed + \"_\" + str(phase) + \"_\" + subbasin)\n",
    "print(\"sub-basin: \" + str(subbasin_name))\n",
    "print(\"phase: \" + str(phase))\n",
    "\n",
    "# path to your bare earth, and path to a cleaned snow depth raster\n",
    "be_dem = r\"H:\\Englishman\\2021\\DEMs\\bare_earth\\EGM_BE_wgs84_1m.tif\"\n",
    "snow_depth = r\"H:\\Englishman\\2021\\GIS\\SD_clean\\\\\" + name + \"_SD_clean.tif\"\n",
    "aspect = r\"H:\\Englishman\\2021\\GIS\\aspect.tif\"\n",
    "\n",
    "#shapefile is the basin used to mask the rasters, should include the total lidar area if not a sub basin\n",
    "basin = subbasin + \".shp\"\n",
    "mask_directory = r\"H:\\Englishman\\2021\\GIS\\boundaries\"\n",
    "\n",
    "#swe table output for matrices\n",
    "out_swe_tables = r\"H:\\Englishman\\2021\\Analysis\\swe_tables\"\n",
    "\n",
    "#swe multipliers as a dictionary, with lower CI, water volume, then high CI\n",
    "swe_multipliers = {\"P01\" : {\"LCI\" : .348, \"M\" : .38, \"HCI\" : .415}, \n",
    "                    \"P02\" : {\"LCI\" : .400, \"M\" : .42, \"HCI\" : .432}, \n",
    "                    \"P03\" : {\"LCI\" : .476, \"M\" : .50, \"HCI\" : .519},\n",
    "                    \"P04\" : {\"LCI\" : .512, \"M\" : .53, \"HCI\" : .547},\n",
    "                   \"P05\" : {\"LCI\" : .554, \"M\" : .57, \"HCI\" : .589}}\n"
   ]
  },
  {
   "cell_type": "code",
   "execution_count": 199,
   "id": "52d1b027",
   "metadata": {},
   "outputs": [
    {
     "name": "stdout",
     "output_type": "stream",
     "text": [
      "Phase: EGM_P05\n",
      "low CI: 0.554 0.9719298245614036\n",
      "high CI: 0.589 1.0333333333333334\n",
      "multiplier: 0.57\n"
     ]
    }
   ],
   "source": [
    "# isolate the lower CI, higher CI, and swe multipliers\n",
    "l_multi = swe_multipliers[phase][\"LCI\"]\n",
    "h_multi = swe_multipliers[phase][\"HCI\"]\n",
    "multiplier = swe_multipliers[phase][\"M\"]\n",
    "\n",
    "# Dividing the multipliers to calculate the factor to multiply by\n",
    "\n",
    "lm = l_multi/multiplier \n",
    "um = h_multi/multiplier\n",
    "print(\"Phase: \" + str(name))\n",
    "print(\"low CI: \" + str(l_multi), str(lm))\n",
    "print(\"high CI: \" + str(h_multi), str(um))\n",
    "print(\"multiplier: \" + str(multiplier))\n",
    "\n"
   ]
  },
  {
   "cell_type": "code",
   "execution_count": 200,
   "id": "7c035bdd",
   "metadata": {},
   "outputs": [],
   "source": [
    "#extract the cooridnates of the sub basin shapefile \n",
    "def coords (mask_directory, basin):\n",
    "    os.chdir(mask_directory)\n",
    "    with fiona.open(basin) as shapefile:\n",
    "        for feature in shapefile:\n",
    "            shapes = [feature[\"geometry\"]]\n",
    "    return shapes"
   ]
  },
  {
   "cell_type": "code",
   "execution_count": 201,
   "id": "5aaf339c",
   "metadata": {},
   "outputs": [
    {
     "data": {
      "text/plain": [
       "[{'type': 'Polygon',\n",
       "  'coordinates': [[(387057.4536537798, 5453493.23229841),\n",
       "    (387401.8434505211, 5453476.672143664),\n",
       "    (387529.44851290435, 5453446.1438609045),\n",
       "    (387660.57993982267, 5453413.51536452),\n",
       "    (387811.3929921016, 5453366.641138332),\n",
       "    (387935.8773352336, 5453253.403311208),\n",
       "    (388097.47273003496, 5453154.2000101),\n",
       "    (388269.3044275893, 5453079.433731416),\n",
       "    (388447.00644058734, 5452998.772474825),\n",
       "    (388525.1629962418, 5452861.299386334),\n",
       "    (388584.3619885398, 5452672.8606037665),\n",
       "    (388545.2371337898, 5452482.778266586),\n",
       "    (388531.34653958026, 5452269.033849275),\n",
       "    (388625.80170552805, 5452029.61145124),\n",
       "    (388467.77100558113, 5451936.201626269),\n",
       "    (388421.2132661557, 5451781.567932606),\n",
       "    (388252.77311356645, 5451728.973886151),\n",
       "    (388052.8676812211, 5451685.814460114),\n",
       "    (387918.3046238143, 5451742.374239575),\n",
       "    (387774.0322607504, 5451712.579632727),\n",
       "    (387635.9566727914, 5451584.358025515),\n",
       "    (387331.5872750133, 5451611.972071441),\n",
       "    (387117.8876045123, 5451665.685728194),\n",
       "    (386913.448079464, 5451548.47089611),\n",
       "    (386678.19680370763, 5451499.923239738),\n",
       "    (386404.0229479475, 5451559.240964381),\n",
       "    (386189.3640412111, 5451556.168099428),\n",
       "    (385975.4485331597, 5451604.490141638),\n",
       "    (385834.0770042436, 5451759.472409189),\n",
       "    (385567.82352180965, 5451905.452671504),\n",
       "    (385421.5984681379, 5452144.351000257),\n",
       "    (385381.86907171085, 5452294.85972471),\n",
       "    (385432.0091375625, 5452573.278891953),\n",
       "    (385507.0764238108, 5452726.614978289),\n",
       "    (385526.6638235422, 5452874.681129489),\n",
       "    (385635.6081213588, 5453060.943406614),\n",
       "    (385739.8419298986, 5453173.371708322),\n",
       "    (385861.94198684767, 5453296.702517116),\n",
       "    (385976.4278330691, 5453393.018659601),\n",
       "    (386044.78589626215, 5453518.671446212),\n",
       "    (386185.59414952993, 5453476.931454092),\n",
       "    (386356.2022087006, 5453431.063309684),\n",
       "    (386693.43667977303, 5453435.714736931),\n",
       "    (386842.44684329536, 5453543.658362612),\n",
       "    (387057.4536537798, 5453493.23229841)]]}]"
      ]
     },
     "metadata": {},
     "output_type": "display_data"
    },
    {
     "data": {
      "text/plain": [
       "list"
      ]
     },
     "execution_count": 201,
     "metadata": {},
     "output_type": "execute_result"
    }
   ],
   "source": [
    "#call function - output should be paired coordinates\n",
    "mask_coords = coords(mask_directory, basin)\n",
    "display(mask_coords)\n",
    "type(mask_coords)"
   ]
  },
  {
   "cell_type": "code",
   "execution_count": null,
   "id": "e5bc93d7",
   "metadata": {},
   "outputs": [],
   "source": [
    "#calculate the aspect grid using the bare earth, and mask by the basin\n",
    "#comment out if not needed\n",
    "# def calculate_aspect(DEM, mask_coords):\n",
    "#     gdal.DEMProcessing('aspect.tif', DEM, 'aspect')\n",
    "#     with rio.open(\"aspect.tif\") as src:\n",
    "#         raster_image, raster_transform = rio.mask.mask(src, mask_coords, crop=True)\n",
    "#         return raster_image"
   ]
  },
  {
   "cell_type": "code",
   "execution_count": null,
   "id": "41856471",
   "metadata": {},
   "outputs": [],
   "source": [
    "#check that the plot displays, and shape produces paired coordinates\n",
    "#This line removes the 1st digit\n",
    "# aspect = aspect[0,:,:]\n",
    "# display(aspect)\n",
    "# display(aspect.shape)\n",
    "# plt.imshow(aspect)"
   ]
  },
  {
   "cell_type": "code",
   "execution_count": 202,
   "id": "ee2f633e",
   "metadata": {},
   "outputs": [],
   "source": [
    "#call function to mask the \n",
    "def open_masked_raster_array(tif):\n",
    "    with rio.open(tif) as src:\n",
    "        raster_image, raster_transform = rio.mask.mask(src, mask_coords, crop=True)\n",
    "        return raster_image"
   ]
  },
  {
   "cell_type": "code",
   "execution_count": 203,
   "id": "aee1dfc9",
   "metadata": {},
   "outputs": [
    {
     "data": {
      "text/plain": [
       "array([[-9999., -9999., -9999., ..., -9999., -9999., -9999.],\n",
       "       [-9999., -9999., -9999., ..., -9999., -9999., -9999.],\n",
       "       [-9999., -9999., -9999., ..., -9999., -9999., -9999.],\n",
       "       ...,\n",
       "       [-9999., -9999., -9999., ..., -9999., -9999., -9999.],\n",
       "       [-9999., -9999., -9999., ..., -9999., -9999., -9999.],\n",
       "       [-9999., -9999., -9999., ..., -9999., -9999., -9999.]],\n",
       "      dtype=float32)"
      ]
     },
     "metadata": {},
     "output_type": "display_data"
    },
    {
     "data": {
      "text/plain": [
       "(2045, 3245)"
      ]
     },
     "metadata": {},
     "output_type": "display_data"
    },
    {
     "name": "stdout",
     "output_type": "stream",
     "text": [
      "CPU times: total: 438 ms\n",
      "Wall time: 446 ms\n"
     ]
    },
    {
     "data": {
      "text/plain": [
       "<matplotlib.image.AxesImage at 0x242cba8a020>"
      ]
     },
     "execution_count": 203,
     "metadata": {},
     "output_type": "execute_result"
    },
    {
     "data": {
      "image/png": "[encoded data removed]",
      "text/plain": [
       "<Figure size 432x288 with 1 Axes>"
      ]
     },
     "metadata": {},
     "output_type": "display_data"
    }
   ],
   "source": [
    "%%time\n",
    "#mask the bare earth, check it displays\n",
    "be_dem = open_masked_raster_array(be_dem)\n",
    "be_dem = be_dem[0,:,:]\n",
    "#no data value likey -3.40282...\n",
    "display(be_dem)\n",
    "display(be_dem.shape)\n",
    "plt.imshow(be_dem)"
   ]
  },
  {
   "cell_type": "code",
   "execution_count": 204,
   "id": "f804a138",
   "metadata": {},
   "outputs": [
    {
     "data": {
      "text/plain": [
       "array([[-9999., -9999., -9999., ..., -9999., -9999., -9999.],\n",
       "       [-9999., -9999., -9999., ..., -9999., -9999., -9999.],\n",
       "       [-9999., -9999., -9999., ..., -9999., -9999., -9999.],\n",
       "       ...,\n",
       "       [-9999., -9999., -9999., ..., -9999., -9999., -9999.],\n",
       "       [-9999., -9999., -9999., ..., -9999., -9999., -9999.],\n",
       "       [-9999., -9999., -9999., ..., -9999., -9999., -9999.]],\n",
       "      dtype=float32)"
      ]
     },
     "metadata": {},
     "output_type": "display_data"
    },
    {
     "data": {
      "text/plain": [
       "(2045, 3245)"
      ]
     },
     "metadata": {},
     "output_type": "display_data"
    },
    {
     "data": {
      "text/plain": [
       "<matplotlib.image.AxesImage at 0x24298a65360>"
      ]
     },
     "execution_count": 204,
     "metadata": {},
     "output_type": "execute_result"
    },
    {
     "data": {
      "image/png": "[encoded data removed]",
      "text/plain": [
       "<Figure size 432x288 with 1 Axes>"
      ]
     },
     "metadata": {},
     "output_type": "display_data"
    }
   ],
   "source": [
    "aspect = open_masked_raster_array(aspect)\n",
    "aspect = aspect[0,:,:]\n",
    "display(aspect)\n",
    "display(aspect.shape)\n",
    "plt.imshow(aspect)"
   ]
  },
  {
   "cell_type": "code",
   "execution_count": 205,
   "id": "d4d6ce56",
   "metadata": {},
   "outputs": [
    {
     "data": {
      "text/plain": [
       "array([[-3.4028235e+38, -3.4028235e+38, -3.4028235e+38, ...,\n",
       "        -3.4028235e+38, -3.4028235e+38, -3.4028235e+38],\n",
       "       [-3.4028235e+38, -3.4028235e+38, -3.4028235e+38, ...,\n",
       "        -3.4028235e+38, -3.4028235e+38, -3.4028235e+38],\n",
       "       [-3.4028235e+38, -3.4028235e+38, -3.4028235e+38, ...,\n",
       "        -3.4028235e+38, -3.4028235e+38, -3.4028235e+38],\n",
       "       ...,\n",
       "       [-3.4028235e+38, -3.4028235e+38, -3.4028235e+38, ...,\n",
       "        -3.4028235e+38, -3.4028235e+38, -3.4028235e+38],\n",
       "       [-3.4028235e+38, -3.4028235e+38, -3.4028235e+38, ...,\n",
       "        -3.4028235e+38, -3.4028235e+38, -3.4028235e+38],\n",
       "       [-3.4028235e+38, -3.4028235e+38, -3.4028235e+38, ...,\n",
       "        -3.4028235e+38, -3.4028235e+38, -3.4028235e+38]], dtype=float32)"
      ]
     },
     "metadata": {},
     "output_type": "display_data"
    },
    {
     "data": {
      "text/plain": [
       "(2045, 3245)"
      ]
     },
     "metadata": {},
     "output_type": "display_data"
    },
    {
     "name": "stdout",
     "output_type": "stream",
     "text": [
      "CPU times: total: 156 ms\n",
      "Wall time: 3.92 s\n"
     ]
    },
    {
     "data": {
      "text/plain": [
       "<matplotlib.image.AxesImage at 0x24298ad0100>"
      ]
     },
     "execution_count": 205,
     "metadata": {},
     "output_type": "execute_result"
    },
    {
     "data": {
      "image/png": "[encoded data removed]",
      "text/plain": [
       "<Figure size 432x288 with 1 Axes>"
      ]
     },
     "metadata": {},
     "output_type": "display_data"
    }
   ],
   "source": [
    "%%time\n",
    "#mask the snow depth, check it displays\n",
    "snow_depth = open_masked_raster_array(snow_depth)\n",
    "snow_depth = snow_depth[0,:,:]\n",
    "#check the no data value, will be needed for next stage, could be -999\n",
    "display(snow_depth)\n",
    "display(snow_depth.shape)\n",
    "plt.imshow(snow_depth)"
   ]
  },
  {
   "cell_type": "code",
   "execution_count": 206,
   "id": "293afd59",
   "metadata": {},
   "outputs": [],
   "source": [
    "#may need to change your no data value for the snow depth raster\n",
    "no_data_sd = -999\n",
    "aspect[be_dem < 0] = np.nan\n",
    "snow_depth[be_dem < 0]= np.nan\n",
    "be_dem[be_dem < 0] = np.nan\n",
    "#snow_depth[snow_depth == -999] = 0"
   ]
  },
  {
   "cell_type": "code",
   "execution_count": 207,
   "id": "ed9f4b8b",
   "metadata": {},
   "outputs": [
    {
     "data": {
      "text/plain": [
       "True"
      ]
     },
     "execution_count": 207,
     "metadata": {},
     "output_type": "execute_result"
    }
   ],
   "source": [
    "#check that the shapes are the same\n",
    "be_dem.shape == snow_depth.shape\n"
   ]
  },
  {
   "cell_type": "code",
   "execution_count": 208,
   "id": "88677bab",
   "metadata": {},
   "outputs": [
    {
     "data": {
      "text/plain": [
       "True"
      ]
     },
     "execution_count": 208,
     "metadata": {},
     "output_type": "execute_result"
    }
   ],
   "source": [
    "be_dem.shape == aspect.shape"
   ]
  },
  {
   "cell_type": "code",
   "execution_count": 209,
   "id": "0c77898f",
   "metadata": {},
   "outputs": [],
   "source": [
    "#unravel the rasters\n",
    "be_dem_ravel = np.ravel(be_dem)\n",
    "aspect_ravel = np.ravel(aspect)\n",
    "snow_depth_ravel = np.ravel(snow_depth)"
   ]
  },
  {
   "cell_type": "code",
   "execution_count": 210,
   "id": "95b9020c",
   "metadata": {},
   "outputs": [
    {
     "name": "stdout",
     "output_type": "stream",
     "text": [
      "BAREEARTH:(6636025,)\n",
      "ASPECT:(6636025,)\n",
      "SNOWDEPTH:(6636025,)\n"
     ]
    }
   ],
   "source": [
    "print(\"BAREEARTH:\" + str(np.shape(be_dem_ravel)))\n",
    "print(\"ASPECT:\" + str(np.shape(aspect_ravel)))\n",
    "print(\"SNOWDEPTH:\" + str(np.shape(snow_depth_ravel)))"
   ]
  },
  {
   "cell_type": "code",
   "execution_count": 211,
   "id": "6fb69975",
   "metadata": {},
   "outputs": [
    {
     "data": {
      "text/html": [
       "<div>\n",
       "<style scoped>\n",
       "    .dataframe tbody tr th:only-of-type {\n",
       "        vertical-align: middle;\n",
       "    }\n",
       "\n",
       "    .dataframe tbody tr th {\n",
       "        vertical-align: top;\n",
       "    }\n",
       "\n",
       "    .dataframe thead th {\n",
       "        text-align: right;\n",
       "    }\n",
       "</style>\n",
       "<table border=\"1\" class=\"dataframe\">\n",
       "  <thead>\n",
       "    <tr style=\"text-align: right;\">\n",
       "      <th></th>\n",
       "      <th>Elev</th>\n",
       "      <th>Asp</th>\n",
       "      <th>SD</th>\n",
       "    </tr>\n",
       "  </thead>\n",
       "  <tbody>\n",
       "    <tr>\n",
       "      <th>0</th>\n",
       "      <td>1166.129028</td>\n",
       "      <td>199.334808</td>\n",
       "      <td>0.362061</td>\n",
       "    </tr>\n",
       "    <tr>\n",
       "      <th>1</th>\n",
       "      <td>1165.730103</td>\n",
       "      <td>195.427109</td>\n",
       "      <td>0.100952</td>\n",
       "    </tr>\n",
       "    <tr>\n",
       "      <th>2</th>\n",
       "      <td>1165.835083</td>\n",
       "      <td>195.100052</td>\n",
       "      <td>0.175049</td>\n",
       "    </tr>\n",
       "    <tr>\n",
       "      <th>3</th>\n",
       "      <td>1165.932007</td>\n",
       "      <td>187.858566</td>\n",
       "      <td>0.175659</td>\n",
       "    </tr>\n",
       "    <tr>\n",
       "      <th>4</th>\n",
       "      <td>1165.889038</td>\n",
       "      <td>187.737518</td>\n",
       "      <td>0.140015</td>\n",
       "    </tr>\n",
       "    <tr>\n",
       "      <th>...</th>\n",
       "      <td>...</td>\n",
       "      <td>...</td>\n",
       "      <td>...</td>\n",
       "    </tr>\n",
       "    <tr>\n",
       "      <th>4873646</th>\n",
       "      <td>1255.545044</td>\n",
       "      <td>68.368561</td>\n",
       "      <td>0.083374</td>\n",
       "    </tr>\n",
       "    <tr>\n",
       "      <th>4873647</th>\n",
       "      <td>1255.115112</td>\n",
       "      <td>75.235405</td>\n",
       "      <td>0.131104</td>\n",
       "    </tr>\n",
       "    <tr>\n",
       "      <th>4873648</th>\n",
       "      <td>1254.538086</td>\n",
       "      <td>78.742599</td>\n",
       "      <td>0.083740</td>\n",
       "    </tr>\n",
       "    <tr>\n",
       "      <th>4873649</th>\n",
       "      <td>1253.818115</td>\n",
       "      <td>81.434082</td>\n",
       "      <td>0.122192</td>\n",
       "    </tr>\n",
       "    <tr>\n",
       "      <th>4873650</th>\n",
       "      <td>1253.213013</td>\n",
       "      <td>83.964905</td>\n",
       "      <td>0.189819</td>\n",
       "    </tr>\n",
       "  </tbody>\n",
       "</table>\n",
       "<p>4873651 rows × 3 columns</p>\n",
       "</div>"
      ],
      "text/plain": [
       "                Elev         Asp        SD\n",
       "0        1166.129028  199.334808  0.362061\n",
       "1        1165.730103  195.427109  0.100952\n",
       "2        1165.835083  195.100052  0.175049\n",
       "3        1165.932007  187.858566  0.175659\n",
       "4        1165.889038  187.737518  0.140015\n",
       "...              ...         ...       ...\n",
       "4873646  1255.545044   68.368561  0.083374\n",
       "4873647  1255.115112   75.235405  0.131104\n",
       "4873648  1254.538086   78.742599  0.083740\n",
       "4873649  1253.818115   81.434082  0.122192\n",
       "4873650  1253.213013   83.964905  0.189819\n",
       "\n",
       "[4873651 rows x 3 columns]"
      ]
     },
     "metadata": {},
     "output_type": "display_data"
    }
   ],
   "source": [
    "#Convert the unravelled arrays into a data frame form\n",
    "df = pd.DataFrame({\"Elev\": be_dem_ravel, \"Asp\": aspect_ravel, \"SD\": snow_depth_ravel})\n",
    "df = df.dropna()\n",
    "df['Asp'] = df['Asp'].map(lambda x: np.nan if x==-9999  else x)\n",
    "df['SD'] = df['SD'].map(lambda x: np.nan if x < -0.2  else x)\n",
    "df = df.dropna()\n",
    "df = df.reset_index(drop=True)\n",
    "display(df)"
   ]
  },
  {
   "cell_type": "code",
   "execution_count": 213,
   "id": "50ce55eb",
   "metadata": {},
   "outputs": [
    {
     "data": {
      "text/plain": [
       "0"
      ]
     },
     "metadata": {},
     "output_type": "display_data"
    },
    {
     "data": {
      "text/plain": [
       "0"
      ]
     },
     "metadata": {},
     "output_type": "display_data"
    },
    {
     "data": {
      "text/plain": [
       "0"
      ]
     },
     "metadata": {},
     "output_type": "display_data"
    },
    {
     "data": {
      "text/plain": [
       "0"
      ]
     },
     "metadata": {},
     "output_type": "display_data"
    },
    {
     "name": "stdout",
     "output_type": "stream",
     "text": [
      "791\n",
      "1557\n"
     ]
    }
   ],
   "source": [
    "# rounding to nearest 100 for elevation band\n",
    "min = int(df[\"Elev\"].min())\n",
    "max = int(df[\"Elev\"].max())\n",
    "\n",
    "\n",
    "\n",
    "display(np.count_nonzero(df[\"SD\"] == -3.402823))\n",
    "display(np.count_nonzero(df[\"Asp\"] == -9999))\n",
    "display(np.count_nonzero(df[\"Elev\"] == -9999))\n",
    "#This is changing where there is no data on the snow depth raster to zero, ie. will not affect the results\n",
    "\n",
    "display(np.count_nonzero(snow_depth_ravel == -999))\n",
    "\n",
    "df['zbin'] = round(df[\"Elev\"], -2)\n",
    "print(str(min))\n",
    "print(str(max))"
   ]
  },
  {
   "cell_type": "code",
   "execution_count": 214,
   "id": "9da220ac",
   "metadata": {},
   "outputs": [
    {
     "data": {
      "text/html": [
       "<div>\n",
       "<style scoped>\n",
       "    .dataframe tbody tr th:only-of-type {\n",
       "        vertical-align: middle;\n",
       "    }\n",
       "\n",
       "    .dataframe tbody tr th {\n",
       "        vertical-align: top;\n",
       "    }\n",
       "\n",
       "    .dataframe thead th {\n",
       "        text-align: right;\n",
       "    }\n",
       "</style>\n",
       "<table border=\"1\" class=\"dataframe\">\n",
       "  <thead>\n",
       "    <tr style=\"text-align: right;\">\n",
       "      <th></th>\n",
       "      <th>Elev</th>\n",
       "      <th>Asp</th>\n",
       "      <th>SD</th>\n",
       "      <th>zbin</th>\n",
       "      <th>Aspect</th>\n",
       "    </tr>\n",
       "  </thead>\n",
       "  <tbody>\n",
       "    <tr>\n",
       "      <th>0</th>\n",
       "      <td>1166.129028</td>\n",
       "      <td>199.334808</td>\n",
       "      <td>0.362061</td>\n",
       "      <td>1200.0</td>\n",
       "      <td>South</td>\n",
       "    </tr>\n",
       "    <tr>\n",
       "      <th>1</th>\n",
       "      <td>1165.730103</td>\n",
       "      <td>195.427109</td>\n",
       "      <td>0.100952</td>\n",
       "      <td>1200.0</td>\n",
       "      <td>South</td>\n",
       "    </tr>\n",
       "    <tr>\n",
       "      <th>2</th>\n",
       "      <td>1165.835083</td>\n",
       "      <td>195.100052</td>\n",
       "      <td>0.175049</td>\n",
       "      <td>1200.0</td>\n",
       "      <td>South</td>\n",
       "    </tr>\n",
       "    <tr>\n",
       "      <th>3</th>\n",
       "      <td>1165.932007</td>\n",
       "      <td>187.858566</td>\n",
       "      <td>0.175659</td>\n",
       "      <td>1200.0</td>\n",
       "      <td>South</td>\n",
       "    </tr>\n",
       "    <tr>\n",
       "      <th>4</th>\n",
       "      <td>1165.889038</td>\n",
       "      <td>187.737518</td>\n",
       "      <td>0.140015</td>\n",
       "      <td>1200.0</td>\n",
       "      <td>South</td>\n",
       "    </tr>\n",
       "    <tr>\n",
       "      <th>...</th>\n",
       "      <td>...</td>\n",
       "      <td>...</td>\n",
       "      <td>...</td>\n",
       "      <td>...</td>\n",
       "      <td>...</td>\n",
       "    </tr>\n",
       "    <tr>\n",
       "      <th>4873646</th>\n",
       "      <td>1255.545044</td>\n",
       "      <td>68.368561</td>\n",
       "      <td>0.083374</td>\n",
       "      <td>1300.0</td>\n",
       "      <td>East</td>\n",
       "    </tr>\n",
       "    <tr>\n",
       "      <th>4873647</th>\n",
       "      <td>1255.115112</td>\n",
       "      <td>75.235405</td>\n",
       "      <td>0.131104</td>\n",
       "      <td>1300.0</td>\n",
       "      <td>East</td>\n",
       "    </tr>\n",
       "    <tr>\n",
       "      <th>4873648</th>\n",
       "      <td>1254.538086</td>\n",
       "      <td>78.742599</td>\n",
       "      <td>0.083740</td>\n",
       "      <td>1300.0</td>\n",
       "      <td>East</td>\n",
       "    </tr>\n",
       "    <tr>\n",
       "      <th>4873649</th>\n",
       "      <td>1253.818115</td>\n",
       "      <td>81.434082</td>\n",
       "      <td>0.122192</td>\n",
       "      <td>1300.0</td>\n",
       "      <td>East</td>\n",
       "    </tr>\n",
       "    <tr>\n",
       "      <th>4873650</th>\n",
       "      <td>1253.213013</td>\n",
       "      <td>83.964905</td>\n",
       "      <td>0.189819</td>\n",
       "      <td>1300.0</td>\n",
       "      <td>East</td>\n",
       "    </tr>\n",
       "  </tbody>\n",
       "</table>\n",
       "<p>4873651 rows × 5 columns</p>\n",
       "</div>"
      ],
      "text/plain": [
       "                Elev         Asp        SD    zbin Aspect\n",
       "0        1166.129028  199.334808  0.362061  1200.0  South\n",
       "1        1165.730103  195.427109  0.100952  1200.0  South\n",
       "2        1165.835083  195.100052  0.175049  1200.0  South\n",
       "3        1165.932007  187.858566  0.175659  1200.0  South\n",
       "4        1165.889038  187.737518  0.140015  1200.0  South\n",
       "...              ...         ...       ...     ...    ...\n",
       "4873646  1255.545044   68.368561  0.083374  1300.0   East\n",
       "4873647  1255.115112   75.235405  0.131104  1300.0   East\n",
       "4873648  1254.538086   78.742599  0.083740  1300.0   East\n",
       "4873649  1253.818115   81.434082  0.122192  1300.0   East\n",
       "4873650  1253.213013   83.964905  0.189819  1300.0   East\n",
       "\n",
       "[4873651 rows x 5 columns]"
      ]
     },
     "metadata": {},
     "output_type": "display_data"
    }
   ],
   "source": [
    "def aspect(df, old_col, new_col):\n",
    "    conditions_asp = [\n",
    "        df[old_col] == -1,\n",
    "        df[old_col] <= 22.5,\n",
    "        df[old_col] <= 67.5,\n",
    "        df[old_col] <= 112.5,\n",
    "        df[old_col] <= 157.5,\n",
    "        df[old_col] <= 202.5,\n",
    "        df[old_col] <= 247.5,\n",
    "        df[old_col] <= 292.5,\n",
    "        df[old_col] <= 337.5,\n",
    "        df[old_col] <= 360]\n",
    "\n",
    "    values_asp = [\"Flat\", \"North\", \"Northeast\", \"East\", \"Southeast\", \"South\", \"Southwest\", \"West\", \"Northwest\", \"North\"]\n",
    "    df[new_col] = np.select(conditions_asp, values_asp)\n",
    "\n",
    "aspect(df, \"Asp\", \"Aspect\")\n",
    "display(df)"
   ]
  },
  {
   "cell_type": "code",
   "execution_count": 215,
   "id": "2fd5763b",
   "metadata": {},
   "outputs": [
    {
     "data": {
      "text/plain": [
       "'SWE multiplier: 0.57'"
      ]
     },
     "metadata": {},
     "output_type": "display_data"
    },
    {
     "data": {
      "text/plain": [
       "'Raster resolution: 1'"
      ]
     },
     "metadata": {},
     "output_type": "display_data"
    },
    {
     "data": {
      "text/html": [
       "<div>\n",
       "<style scoped>\n",
       "    .dataframe tbody tr th:only-of-type {\n",
       "        vertical-align: middle;\n",
       "    }\n",
       "\n",
       "    .dataframe tbody tr th {\n",
       "        vertical-align: top;\n",
       "    }\n",
       "\n",
       "    .dataframe thead th {\n",
       "        text-align: right;\n",
       "    }\n",
       "</style>\n",
       "<table border=\"1\" class=\"dataframe\">\n",
       "  <thead>\n",
       "    <tr style=\"text-align: right;\">\n",
       "      <th></th>\n",
       "      <th>Elev</th>\n",
       "      <th>Asp</th>\n",
       "      <th>SD</th>\n",
       "      <th>zbin</th>\n",
       "      <th>Aspect</th>\n",
       "      <th>swe</th>\n",
       "      <th>swe_mm</th>\n",
       "      <th>swe_lm</th>\n",
       "      <th>swe_hm</th>\n",
       "      <th>water_vol</th>\n",
       "      <th>lower_wv</th>\n",
       "      <th>upper_wv</th>\n",
       "      <th>area</th>\n",
       "    </tr>\n",
       "  </thead>\n",
       "  <tbody>\n",
       "    <tr>\n",
       "      <th>2964536</th>\n",
       "      <td>1035.598999</td>\n",
       "      <td>332.486115</td>\n",
       "      <td>-0.199951</td>\n",
       "      <td>1000.0</td>\n",
       "      <td>Northwest</td>\n",
       "      <td>-0.113972</td>\n",
       "      <td>-113.972168</td>\n",
       "      <td>-110.772949</td>\n",
       "      <td>-117.771240</td>\n",
       "      <td>-0.113972</td>\n",
       "      <td>-0.110773</td>\n",
       "      <td>-0.117771</td>\n",
       "      <td>1</td>\n",
       "    </tr>\n",
       "    <tr>\n",
       "      <th>2848014</th>\n",
       "      <td>1031.709106</td>\n",
       "      <td>359.614868</td>\n",
       "      <td>-0.199951</td>\n",
       "      <td>1000.0</td>\n",
       "      <td>North</td>\n",
       "      <td>-0.113972</td>\n",
       "      <td>-113.972168</td>\n",
       "      <td>-110.772949</td>\n",
       "      <td>-117.771240</td>\n",
       "      <td>-0.113972</td>\n",
       "      <td>-0.110773</td>\n",
       "      <td>-0.117771</td>\n",
       "      <td>1</td>\n",
       "    </tr>\n",
       "    <tr>\n",
       "      <th>1138431</th>\n",
       "      <td>1098.522095</td>\n",
       "      <td>73.123573</td>\n",
       "      <td>-0.199951</td>\n",
       "      <td>1100.0</td>\n",
       "      <td>East</td>\n",
       "      <td>-0.113972</td>\n",
       "      <td>-113.972168</td>\n",
       "      <td>-110.772949</td>\n",
       "      <td>-117.771240</td>\n",
       "      <td>-0.113972</td>\n",
       "      <td>-0.110773</td>\n",
       "      <td>-0.117771</td>\n",
       "      <td>1</td>\n",
       "    </tr>\n",
       "    <tr>\n",
       "      <th>4267885</th>\n",
       "      <td>1247.103027</td>\n",
       "      <td>314.573395</td>\n",
       "      <td>-0.199951</td>\n",
       "      <td>1200.0</td>\n",
       "      <td>Northwest</td>\n",
       "      <td>-0.113972</td>\n",
       "      <td>-113.972168</td>\n",
       "      <td>-110.772949</td>\n",
       "      <td>-117.771240</td>\n",
       "      <td>-0.113972</td>\n",
       "      <td>-0.110773</td>\n",
       "      <td>-0.117771</td>\n",
       "      <td>1</td>\n",
       "    </tr>\n",
       "    <tr>\n",
       "      <th>4844592</th>\n",
       "      <td>1328.227051</td>\n",
       "      <td>98.508369</td>\n",
       "      <td>-0.199951</td>\n",
       "      <td>1300.0</td>\n",
       "      <td>East</td>\n",
       "      <td>-0.113972</td>\n",
       "      <td>-113.972168</td>\n",
       "      <td>-110.772949</td>\n",
       "      <td>-117.771240</td>\n",
       "      <td>-0.113972</td>\n",
       "      <td>-0.110773</td>\n",
       "      <td>-0.117771</td>\n",
       "      <td>1</td>\n",
       "    </tr>\n",
       "    <tr>\n",
       "      <th>...</th>\n",
       "      <td>...</td>\n",
       "      <td>...</td>\n",
       "      <td>...</td>\n",
       "      <td>...</td>\n",
       "      <td>...</td>\n",
       "      <td>...</td>\n",
       "      <td>...</td>\n",
       "      <td>...</td>\n",
       "      <td>...</td>\n",
       "      <td>...</td>\n",
       "      <td>...</td>\n",
       "      <td>...</td>\n",
       "      <td>...</td>\n",
       "    </tr>\n",
       "    <tr>\n",
       "      <th>4116402</th>\n",
       "      <td>1164.623047</td>\n",
       "      <td>88.609062</td>\n",
       "      <td>7.959961</td>\n",
       "      <td>1200.0</td>\n",
       "      <td>East</td>\n",
       "      <td>4.537178</td>\n",
       "      <td>4537.177734</td>\n",
       "      <td>4409.818359</td>\n",
       "      <td>4688.416992</td>\n",
       "      <td>4.537178</td>\n",
       "      <td>4.409818</td>\n",
       "      <td>4.688417</td>\n",
       "      <td>1</td>\n",
       "    </tr>\n",
       "    <tr>\n",
       "      <th>4136584</th>\n",
       "      <td>1175.435059</td>\n",
       "      <td>23.011415</td>\n",
       "      <td>7.966064</td>\n",
       "      <td>1200.0</td>\n",
       "      <td>Northeast</td>\n",
       "      <td>4.540657</td>\n",
       "      <td>4540.656738</td>\n",
       "      <td>4413.199707</td>\n",
       "      <td>4692.011963</td>\n",
       "      <td>4.540657</td>\n",
       "      <td>4.413200</td>\n",
       "      <td>4.692012</td>\n",
       "      <td>1</td>\n",
       "    </tr>\n",
       "    <tr>\n",
       "      <th>1295326</th>\n",
       "      <td>1129.397095</td>\n",
       "      <td>80.131889</td>\n",
       "      <td>7.989502</td>\n",
       "      <td>1100.0</td>\n",
       "      <td>East</td>\n",
       "      <td>4.554016</td>\n",
       "      <td>4554.016113</td>\n",
       "      <td>4426.184082</td>\n",
       "      <td>4705.816650</td>\n",
       "      <td>4.554016</td>\n",
       "      <td>4.426184</td>\n",
       "      <td>4.705817</td>\n",
       "      <td>1</td>\n",
       "    </tr>\n",
       "    <tr>\n",
       "      <th>1217090</th>\n",
       "      <td>1215.532104</td>\n",
       "      <td>43.013443</td>\n",
       "      <td>7.991211</td>\n",
       "      <td>1200.0</td>\n",
       "      <td>Northeast</td>\n",
       "      <td>4.554990</td>\n",
       "      <td>4554.990234</td>\n",
       "      <td>4427.130859</td>\n",
       "      <td>4706.823242</td>\n",
       "      <td>4.554990</td>\n",
       "      <td>4.427131</td>\n",
       "      <td>4.706823</td>\n",
       "      <td>1</td>\n",
       "    </tr>\n",
       "    <tr>\n",
       "      <th>1587037</th>\n",
       "      <td>1292.495117</td>\n",
       "      <td>18.984118</td>\n",
       "      <td>7.999634</td>\n",
       "      <td>1300.0</td>\n",
       "      <td>North</td>\n",
       "      <td>4.559791</td>\n",
       "      <td>4559.791260</td>\n",
       "      <td>4431.797119</td>\n",
       "      <td>4711.784302</td>\n",
       "      <td>4.559791</td>\n",
       "      <td>4.431797</td>\n",
       "      <td>4.711784</td>\n",
       "      <td>1</td>\n",
       "    </tr>\n",
       "  </tbody>\n",
       "</table>\n",
       "<p>4873651 rows × 13 columns</p>\n",
       "</div>"
      ],
      "text/plain": [
       "                Elev         Asp        SD    zbin     Aspect       swe  \\\n",
       "2964536  1035.598999  332.486115 -0.199951  1000.0  Northwest -0.113972   \n",
       "2848014  1031.709106  359.614868 -0.199951  1000.0      North -0.113972   \n",
       "1138431  1098.522095   73.123573 -0.199951  1100.0       East -0.113972   \n",
       "4267885  1247.103027  314.573395 -0.199951  1200.0  Northwest -0.113972   \n",
       "4844592  1328.227051   98.508369 -0.199951  1300.0       East -0.113972   \n",
       "...              ...         ...       ...     ...        ...       ...   \n",
       "4116402  1164.623047   88.609062  7.959961  1200.0       East  4.537178   \n",
       "4136584  1175.435059   23.011415  7.966064  1200.0  Northeast  4.540657   \n",
       "1295326  1129.397095   80.131889  7.989502  1100.0       East  4.554016   \n",
       "1217090  1215.532104   43.013443  7.991211  1200.0  Northeast  4.554990   \n",
       "1587037  1292.495117   18.984118  7.999634  1300.0      North  4.559791   \n",
       "\n",
       "              swe_mm       swe_lm       swe_hm  water_vol  lower_wv  upper_wv  \\\n",
       "2964536  -113.972168  -110.772949  -117.771240  -0.113972 -0.110773 -0.117771   \n",
       "2848014  -113.972168  -110.772949  -117.771240  -0.113972 -0.110773 -0.117771   \n",
       "1138431  -113.972168  -110.772949  -117.771240  -0.113972 -0.110773 -0.117771   \n",
       "4267885  -113.972168  -110.772949  -117.771240  -0.113972 -0.110773 -0.117771   \n",
       "4844592  -113.972168  -110.772949  -117.771240  -0.113972 -0.110773 -0.117771   \n",
       "...              ...          ...          ...        ...       ...       ...   \n",
       "4116402  4537.177734  4409.818359  4688.416992   4.537178  4.409818  4.688417   \n",
       "4136584  4540.656738  4413.199707  4692.011963   4.540657  4.413200  4.692012   \n",
       "1295326  4554.016113  4426.184082  4705.816650   4.554016  4.426184  4.705817   \n",
       "1217090  4554.990234  4427.130859  4706.823242   4.554990  4.427131  4.706823   \n",
       "1587037  4559.791260  4431.797119  4711.784302   4.559791  4.431797  4.711784   \n",
       "\n",
       "         area  \n",
       "2964536     1  \n",
       "2848014     1  \n",
       "1138431     1  \n",
       "4267885     1  \n",
       "4844592     1  \n",
       "...       ...  \n",
       "4116402     1  \n",
       "4136584     1  \n",
       "1295326     1  \n",
       "1217090     1  \n",
       "1587037     1  \n",
       "\n",
       "[4873651 rows x 13 columns]"
      ]
     },
     "metadata": {},
     "output_type": "display_data"
    }
   ],
   "source": [
    "# Calculate swe and water volume based on the swe multiplier used, aswell as the raster resolution\n",
    "display(\"SWE multiplier: \" + str(multiplier))\n",
    "display(\"Raster resolution: \" + str(resolution))\n",
    "\n",
    "#calculate columns for table\n",
    "df[\"swe\"]= df[\"SD\"]*multiplier\n",
    "df[\"swe_mm\"]=df[\"swe\"]*1000\n",
    "df[\"swe_lm\"]=(df[\"SD\"]*l_multi)*1000\n",
    "df[\"swe_hm\"]=(df[\"SD\"]*h_multi)*1000\n",
    "df[\"water_vol\"]= df[\"swe\"]*(resolution*resolution)\n",
    "df[\"lower_wv\"]=df[\"water_vol\"]*lm\n",
    "df[\"upper_wv\"]=df[\"water_vol\"]*um\n",
    "df[\"area\"]= 1\n",
    "\n",
    "\n",
    "df = df.sort_values(by=['SD'])\n",
    "\n",
    "\n",
    "display(df)"
   ]
  },
  {
   "cell_type": "code",
   "execution_count": 216,
   "id": "5616f7fb",
   "metadata": {},
   "outputs": [],
   "source": [
    "#sum_wv = round(df.groupby(by=[\"zbin\", \"Aspect\"],as_index=False)[\"water_vol\"].sum(),2)\n",
    "#sum_lm_wv = round(df.groupby(by=[\"zbin\", \"Aspect\"],as_index=False)[\"lower_wv\"].sum(),2)\n",
    "#round(df.groupby(by=[\"zbin\", \"Aspect\"],as_index=False)[\"upper_wv\"].sum(),2)\n",
    "\n",
    "#Create dataframes for Average SWE by elevation and sum of water volume by elevation, parameter can be either zbin or aspect\n",
    "def stats(parameter,subbasin_name,df,process_directory):\n",
    "    avg_swe = round(df.groupby(by=[parameter],as_index=True)[[\"swe_mm\",\"swe_lm\", \"swe_hm\"]].mean(),2)\n",
    "    avg_wv = round(df.groupby(by=[parameter],as_index=True)[[\"water_vol\", \"lower_wv\", \"upper_wv\"]].sum(),2)\n",
    "    merged=pd.concat([avg_swe,avg_wv],axis=1)\n",
    "    merged[\"Phase\"]= int(phase[2:])\n",
    "    os.chdir(out_swe_tables)\n",
    "    merged.to_csv(\"processing\\\\\" + parameter + \"\\\\\" + subbasin_name + \"_\" + parameter + \"_stats.csv\", index=True)\n",
    "\n",
    "stats(\"zbin\", subbasin_name, df,out_swe_tables)\n",
    "stats(\"Aspect\", subbasin_name, df,out_swe_tables)\n",
    "                    "
   ]
  },
  {
   "cell_type": "code",
   "execution_count": 217,
   "id": "7d0d6dfd",
   "metadata": {},
   "outputs": [
    {
     "data": {
      "text/html": [
       "<div>\n",
       "<style scoped>\n",
       "    .dataframe tbody tr th:only-of-type {\n",
       "        vertical-align: middle;\n",
       "    }\n",
       "\n",
       "    .dataframe tbody tr th {\n",
       "        vertical-align: top;\n",
       "    }\n",
       "\n",
       "    .dataframe thead th {\n",
       "        text-align: right;\n",
       "    }\n",
       "</style>\n",
       "<table border=\"1\" class=\"dataframe\">\n",
       "  <thead>\n",
       "    <tr style=\"text-align: right;\">\n",
       "      <th>Aspect</th>\n",
       "      <th>Flat</th>\n",
       "      <th>North</th>\n",
       "      <th>Northeast</th>\n",
       "      <th>East</th>\n",
       "      <th>Southeast</th>\n",
       "      <th>South</th>\n",
       "      <th>Southwest</th>\n",
       "      <th>West</th>\n",
       "      <th>Northwest</th>\n",
       "      <th>Total</th>\n",
       "    </tr>\n",
       "    <tr>\n",
       "      <th>zbin</th>\n",
       "      <th></th>\n",
       "      <th></th>\n",
       "      <th></th>\n",
       "      <th></th>\n",
       "      <th></th>\n",
       "      <th></th>\n",
       "      <th></th>\n",
       "      <th></th>\n",
       "      <th></th>\n",
       "      <th></th>\n",
       "    </tr>\n",
       "  </thead>\n",
       "  <tbody>\n",
       "    <tr>\n",
       "      <th>800.0</th>\n",
       "      <td>0.00</td>\n",
       "      <td>775.29</td>\n",
       "      <td>545.58</td>\n",
       "      <td>42.37</td>\n",
       "      <td>2.61</td>\n",
       "      <td>0.40</td>\n",
       "      <td>0.50</td>\n",
       "      <td>8.87</td>\n",
       "      <td>180.65</td>\n",
       "      <td>1556.26</td>\n",
       "    </tr>\n",
       "    <tr>\n",
       "      <th>900.0</th>\n",
       "      <td>0.00</td>\n",
       "      <td>4018.32</td>\n",
       "      <td>4883.04</td>\n",
       "      <td>3597.72</td>\n",
       "      <td>1041.05</td>\n",
       "      <td>251.04</td>\n",
       "      <td>55.27</td>\n",
       "      <td>155.58</td>\n",
       "      <td>1052.24</td>\n",
       "      <td>15054.24</td>\n",
       "    </tr>\n",
       "    <tr>\n",
       "      <th>1000.0</th>\n",
       "      <td>0.00</td>\n",
       "      <td>11456.39</td>\n",
       "      <td>14127.56</td>\n",
       "      <td>11445.95</td>\n",
       "      <td>3541.17</td>\n",
       "      <td>1742.13</td>\n",
       "      <td>485.75</td>\n",
       "      <td>997.75</td>\n",
       "      <td>3013.19</td>\n",
       "      <td>46809.92</td>\n",
       "    </tr>\n",
       "    <tr>\n",
       "      <th>1100.0</th>\n",
       "      <td>0.00</td>\n",
       "      <td>20502.33</td>\n",
       "      <td>24395.14</td>\n",
       "      <td>16397.45</td>\n",
       "      <td>7903.86</td>\n",
       "      <td>4416.67</td>\n",
       "      <td>1222.73</td>\n",
       "      <td>2041.97</td>\n",
       "      <td>8829.12</td>\n",
       "      <td>85709.27</td>\n",
       "    </tr>\n",
       "    <tr>\n",
       "      <th>1200.0</th>\n",
       "      <td>0.12</td>\n",
       "      <td>25375.19</td>\n",
       "      <td>28660.08</td>\n",
       "      <td>18786.58</td>\n",
       "      <td>6031.88</td>\n",
       "      <td>2393.17</td>\n",
       "      <td>1371.87</td>\n",
       "      <td>2570.03</td>\n",
       "      <td>11603.12</td>\n",
       "      <td>96792.06</td>\n",
       "    </tr>\n",
       "    <tr>\n",
       "      <th>1300.0</th>\n",
       "      <td>0.00</td>\n",
       "      <td>34973.33</td>\n",
       "      <td>40113.55</td>\n",
       "      <td>25120.82</td>\n",
       "      <td>6940.00</td>\n",
       "      <td>2005.44</td>\n",
       "      <td>1569.69</td>\n",
       "      <td>3360.14</td>\n",
       "      <td>16521.49</td>\n",
       "      <td>130604.46</td>\n",
       "    </tr>\n",
       "    <tr>\n",
       "      <th>1400.0</th>\n",
       "      <td>0.00</td>\n",
       "      <td>34429.06</td>\n",
       "      <td>57353.44</td>\n",
       "      <td>39528.54</td>\n",
       "      <td>10346.44</td>\n",
       "      <td>3430.15</td>\n",
       "      <td>2256.97</td>\n",
       "      <td>3123.43</td>\n",
       "      <td>12161.20</td>\n",
       "      <td>162629.22</td>\n",
       "    </tr>\n",
       "    <tr>\n",
       "      <th>1500.0</th>\n",
       "      <td>0.00</td>\n",
       "      <td>33447.80</td>\n",
       "      <td>39425.51</td>\n",
       "      <td>31529.44</td>\n",
       "      <td>9365.49</td>\n",
       "      <td>2170.66</td>\n",
       "      <td>1053.62</td>\n",
       "      <td>1982.76</td>\n",
       "      <td>10642.63</td>\n",
       "      <td>129617.90</td>\n",
       "    </tr>\n",
       "    <tr>\n",
       "      <th>1600.0</th>\n",
       "      <td>0.00</td>\n",
       "      <td>396.17</td>\n",
       "      <td>332.20</td>\n",
       "      <td>519.53</td>\n",
       "      <td>238.37</td>\n",
       "      <td>128.97</td>\n",
       "      <td>115.73</td>\n",
       "      <td>185.88</td>\n",
       "      <td>265.10</td>\n",
       "      <td>2181.94</td>\n",
       "    </tr>\n",
       "    <tr>\n",
       "      <th>Total</th>\n",
       "      <td>0.12</td>\n",
       "      <td>165373.88</td>\n",
       "      <td>209836.10</td>\n",
       "      <td>146968.40</td>\n",
       "      <td>45410.86</td>\n",
       "      <td>16538.64</td>\n",
       "      <td>8132.13</td>\n",
       "      <td>14426.41</td>\n",
       "      <td>64268.74</td>\n",
       "      <td>670955.28</td>\n",
       "    </tr>\n",
       "  </tbody>\n",
       "</table>\n",
       "</div>"
      ],
      "text/plain": [
       "Aspect  Flat      North  Northeast       East  Southeast     South  Southwest  \\\n",
       "zbin                                                                            \n",
       "800.0   0.00     775.29     545.58      42.37       2.61      0.40       0.50   \n",
       "900.0   0.00    4018.32    4883.04    3597.72    1041.05    251.04      55.27   \n",
       "1000.0  0.00   11456.39   14127.56   11445.95    3541.17   1742.13     485.75   \n",
       "1100.0  0.00   20502.33   24395.14   16397.45    7903.86   4416.67    1222.73   \n",
       "1200.0  0.12   25375.19   28660.08   18786.58    6031.88   2393.17    1371.87   \n",
       "1300.0  0.00   34973.33   40113.55   25120.82    6940.00   2005.44    1569.69   \n",
       "1400.0  0.00   34429.06   57353.44   39528.54   10346.44   3430.15    2256.97   \n",
       "1500.0  0.00   33447.80   39425.51   31529.44    9365.49   2170.66    1053.62   \n",
       "1600.0  0.00     396.17     332.20     519.53     238.37    128.97     115.73   \n",
       "Total   0.12  165373.88  209836.10  146968.40   45410.86  16538.64    8132.13   \n",
       "\n",
       "Aspect      West  Northwest      Total  \n",
       "zbin                                    \n",
       "800.0       8.87     180.65    1556.26  \n",
       "900.0     155.58    1052.24   15054.24  \n",
       "1000.0    997.75    3013.19   46809.92  \n",
       "1100.0   2041.97    8829.12   85709.27  \n",
       "1200.0   2570.03   11603.12   96792.06  \n",
       "1300.0   3360.14   16521.49  130604.46  \n",
       "1400.0   3123.43   12161.20  162629.22  \n",
       "1500.0   1982.76   10642.63  129617.90  \n",
       "1600.0    185.88     265.10    2181.94  \n",
       "Total   14426.41   64268.74  670955.28  "
      ]
     },
     "metadata": {},
     "output_type": "display_data"
    }
   ],
   "source": [
    "def pivot_table(value_col, agg_func,name, directory):\n",
    "    output_name = subbasin_name +\"_\" + value_col + \"_pivot.csv\"\n",
    "    sum = round(pd.crosstab(\n",
    "      index=df['zbin'], columns=df['Aspect'],\n",
    "      values=df[value_col], aggfunc=agg_func, margins=True,margins_name=\"Total\").fillna(0),2)\n",
    "    sum = sum[[\"Flat\",\"North\", \"Northeast\", \"East\", \"Southeast\", \"South\", \"Southwest\", \"West\", \"Northwest\",\"Total\"]]\n",
    "    display(sum)\n",
    "    \n",
    "    output = os.path.join(directory, \"pivot\",output_name)\n",
    "    sum.to_csv(output)\n",
    "\n",
    "out_directory_swe_tables = r\"H:\\Englishman\\2021\\Analysis\\swe_tables\"\n",
    "pivot_table(\"water_vol\", \"sum\", name, out_swe_tables)\n",
    "#pivot_table(\"water_vol\", \"count\", name, out_directory_swe_tables)\n",
    "#pivot_table(\"area\", \"sum\", name, out_directory_swe_tables)"
   ]
  },
  {
   "cell_type": "code",
   "execution_count": 218,
   "id": "413a3c3a",
   "metadata": {},
   "outputs": [],
   "source": [
    "#generate line graphs for elevation and avg swe\n",
    "#first need to combine csvs into one\n",
    "\n",
    "def combine_csv(file_name, subbasin, directory, out_directory):\n",
    "    os.chdir(directory)\n",
    "    # Match the pattern (‘csv’) and save the list of file names in the ‘all_filenames’ variable.\n",
    "    extension = 'csv'\n",
    "    df = pd.DataFrame()\n",
    "    for item in glob.glob('*.{}'.format(extension)):\n",
    "        if subbasin in item:\n",
    "            file = pd.read_csv(item)\n",
    "            df = df.append(file)\n",
    "    df = df.drop_duplicates()\n",
    "    # export to csv\n",
    "    os.chdir(out_directory)\n",
    "    df.to_csv(file_name, index=False)\n",
    "\n",
    "combine_csv(\"zbin_Arrowsmith_all.csv\", \"Arrowsmith\", r\"H:\\Englishman\\2021\\Analysis\\swe_tables\\processing\\zbin\", r\"H:\\Englishman\\2021\\Analysis\\swe_tables\\processing\\graphs\")\n",
    "combine_csv(\"aspect_Arrowmsmith_all.csv\", \"Arrowsmith\", r\"H:\\Englishman\\2021\\Analysis\\swe_tables\\processing\\aspect\", r\"H:\\Englishman\\2021\\Analysis\\swe_tables\\processing\\graphs\")"
   ]
  },
  {
   "cell_type": "code",
   "execution_count": null,
   "id": "756a481a",
   "metadata": {},
   "outputs": [],
   "source": [
    "#graph\n",
    "import seaborn as sns\n",
    "sns.set_style(\"darkgrid\")\n",
    "\n",
    "#set parameters, will be added to function at later date\n",
    "directory = r\"H:\\Englishman\\2021\\Analysis\\swe_tables\\processing\\graphs\"\n",
    "parameter = \"zbin\"\n",
    "file = parameter + \"_\" + subbasin + \"_all.csv\"\n",
    "out_directory = r\"H:\\Englishman\\2021\\Analysis\\figures\\feb2- graphs_swe_test\"\n",
    "\n",
    "#Testing plotting zonal statistics as table\n",
    "os.chdir(directory)\n",
    "df = pd.read_csv(file)\n",
    "\n",
    "fig, ax = plt.subplots( figsize= (8, 6))\n",
    "sns.lineplot(\n",
    "    data=df,\n",
    "    x=\"zbin\",\n",
    "    y= \"swe_mm\",\n",
    "    hue = \"Phase\")\n",
    "\n",
    "\n",
    "fig.tight_layout()\n",
    "plt.subplots_adjust(top=.9)\n",
    "fig.set_tight_layout(True)\n",
    "\n",
    "\n",
    "\n",
    "#plot the 1 m BARE EARTH avg SD on left side\n",
    "#ax.plot(df[\"zbin\"], df[\"swe_mm\"], \"-o\", color=\"maroon\")\n",
    "ax.set_ylabel('SWE [mm]')\n",
    "ax.set_xlabel(\"Elevation [m - ellipsoid]\")\n",
    "ax.set_ylim([0, 2000])\n",
    "ax.set_xlim([600, 1850])\n",
    "\n",
    "#ax1.fill_between(zplot[\"GRIDCODE\"], zplot['MEAN'] - zplot['STD'], zplot['MEAN'] + zplot['STD'], alpha = 0.2, color=\"tab:red\")\n",
    "\n",
    "plt.suptitle(\"\\n Average SWE by elevation\")\n",
    "os.chdir(out_directory)\n",
    "#plt.savefig(area + \"_slope.png\")\n",
    "plt.show()\n"
   ]
  },
  {
   "cell_type": "code",
   "execution_count": null,
   "id": "8875b8d7",
   "metadata": {},
   "outputs": [],
   "source": [
    "#graph\n",
    "import seaborn as sns\n",
    "sns.set_style(\"darkgrid\")\n",
    "\n",
    "#set parameters, will be added to function at later date\n",
    "directory = r\"H:\\Englishman\\2021\\Analysis\\swe_tables\\processing\\graphs\"\n",
    "parameter = \"zbin\"\n",
    "file = parameter + \"_\" + subbasin + \"_all.csv\"\n",
    "out_directory = r\"H:\\Englishman\\2021\\Analysis\\figures\\feb2- graphs_swe_test\"\n",
    "\n",
    "#Testing plotting zonal statistics as table\n",
    "os.chdir(directory)\n",
    "df = pd.read_csv(file)\n",
    "\n",
    "g = sns.FacetGrid(df, hue=\"Phase\",height=6, aspect =1.3)\n",
    "g.map(plt.plot, \"zbin\", \"swe_mm\")\n",
    "g.set(ylim=(0,2000), xlim=(600,1850))\n",
    "\n",
    "for col, col_name in enumerate(g.col_names):\n",
    "    print()\n",
    "    ax.fill_between(df[\"swe_lm\"], df[\"swe_hm\"])\n",
    "    ax = g.axes[col]\n",
    "\n",
    "\n"
   ]
  },
  {
   "cell_type": "code",
   "execution_count": 237,
   "id": "aafd508e",
   "metadata": {},
   "outputs": [
    {
     "name": "stdout",
     "output_type": "stream",
     "text": [
      "[(0.12156862745098039, 0.4666666666666667, 0.7058823529411765), (1.0, 0.4980392156862745, 0.054901960784313725), (0.17254901960784313, 0.6274509803921569, 0.17254901960784313), (0.8392156862745098, 0.15294117647058825, 0.1568627450980392), (0.5803921568627451, 0.403921568627451, 0.7411764705882353)]\n"
     ]
    },
    {
     "name": "stderr",
     "output_type": "stream",
     "text": [
      "C:\\Users\\BISHOPA\\AppData\\Local\\Temp\\ipykernel_20552\\3082510862.py:78: UserWarning: You have mixed positional and keyword arguments, some input may be discarded.\n",
      "  ax.legend([p1,p2,p3,p4,p5], labels=[\"P01\", \"P02\", \"P03\", \"P04\", \"P05\"], loc=\"upper left\", fontsize = \"medium\")\n"
     ]
    },
    {
     "data": {
      "image/png": "[encoded data removed]",
      "text/plain": [
       "<Figure size 720x432 with 1 Axes>"
      ]
     },
     "metadata": {},
     "output_type": "display_data"
    }
   ],
   "source": [
    "'''Use this script to take the zonal statistics table and graph the average sd w. stdev'''\n",
    "\n",
    "import os\n",
    "import matplotlib.pyplot as plt\n",
    "import pandas as pd\n",
    "import seaborn as sns\n",
    "import matplotlib.ticker as ticker\n",
    "\n",
    "\n",
    "sns.set_style(\"darkgrid\")\n",
    "\n",
    "#set parameters, will be added to function at later date\n",
    "directory = r\"H:\\Englishman\\2021\\Analysis\\swe_tables\\processing\\graphs\"\n",
    "parameter = \"zbin\"\n",
    "wshed = \"Englishman\"\n",
    "subbasin = \"fishtail\"\n",
    "c_subbasin = \"Fishtail\"\n",
    "file = parameter + \"_\" + subbasin + \"_all.csv\"\n",
    "out_directory = r\"H:\\Englishman\\2021\\Analysis\\figures\\feb2- graphs_swe_test\"\n",
    "elevation_swe_title = \"SWE by Elevation \\n\" + wshed + \" watershed: \" + c_subbasin\n",
    "elevation_swe_output = \"SWE_Elevation_\" + wshed + \"_\" + c_subbasin + \".png\"\n",
    "\n",
    "os.chdir(directory)\n",
    "df = pd.read_csv(file)\n",
    "\n",
    "if subbasin == \"cokely\":\n",
    "    df = df[df['zbin']>=900]\n",
    "if subbasin == \"fishtail\":\n",
    "    df = df[df['zbin']<=1700]\n",
    "\n",
    "color_list = sns.color_palette()[:5]\n",
    "print(color_list)\n",
    "\n",
    "\n",
    "#set font sizes\n",
    "SMALL_SIZE = 12\n",
    "MEDIUM_SIZE = 14\n",
    "BIGGER_SIZE = 20\n",
    "\n",
    "plt.rc('font', size=SMALL_SIZE)          # controls default text sizes\n",
    "plt.rc('axes', titlesize=SMALL_SIZE)     # fontsize of the axes title\n",
    "plt.rc('axes', labelsize=MEDIUM_SIZE)    # fontsize of the x and y labels\n",
    "plt.rc('xtick', labelsize=SMALL_SIZE)    # fontsize of the tick labels\n",
    "plt.rc('ytick', labelsize=SMALL_SIZE)    # fontsize of the tick labels\n",
    "plt.rc('legend', fontsize=SMALL_SIZE)    # legend fontsize\n",
    "plt.rc('figure', titlesize=BIGGER_SIZE)  # fontsize of the figure title\n",
    "\n",
    "\n",
    "fig, ax = plt.subplots(figsize=(10,6))\n",
    "fig.set_tight_layout(True)\n",
    "#plt.subplots_adjust(top=.9,bottom=-.9)\n",
    "\n",
    "p01 = df[df[\"Phase\"]==1]\n",
    "p02 = df[df[\"Phase\"]==2]\n",
    "p03 = df[df[\"Phase\"]==3]\n",
    "p04 = df[df[\"Phase\"]==4]\n",
    "p05 = df[df[\"Phase\"]==5]\n",
    "\n",
    "p1 = ax.plot(p01[\"zbin\"], p01[\"swe_mm\"], \"-o\", color=color_list[0])\n",
    "p2 = ax.plot(p02[\"zbin\"], p02[\"swe_mm\"], \"-o\", color=color_list[1])\n",
    "p3 = ax.plot(p03[\"zbin\"], p03[\"swe_mm\"], \"-o\", color=color_list[2])\n",
    "p4 = ax.plot(p04[\"zbin\"], p04[\"swe_mm\"], \"-o\", color=color_list[3])\n",
    "p5 = ax.plot(p05[\"zbin\"], p05[\"swe_mm\"], \"-o\", color=color_list[4])\n",
    "\n",
    "\n",
    "ax.fill_between(p01[\"zbin\"], p01[\"swe_lm\"],p01[\"swe_hm\"], alpha=0.2, color = color_list[0])\n",
    "ax.fill_between(p02[\"zbin\"], p02[\"swe_lm\"],p02[\"swe_hm\"], alpha=0.2, color = color_list[1])\n",
    "ax.fill_between(p03[\"zbin\"], p03[\"swe_lm\"],p03[\"swe_hm\"], alpha=0.2, color = color_list[2])\n",
    "ax.fill_between(p04[\"zbin\"], p04[\"swe_lm\"],p04[\"swe_hm\"], alpha=0.2, color = color_list[3])\n",
    "ax.fill_between(p05[\"zbin\"], p05[\"swe_lm\"],p05[\"swe_hm\"], alpha=0.2, color = color_list[4])\n",
    "\n",
    "ax.set_xlabel('Elevation [m, ellipsoid]')\n",
    "tick_spacing = 100\n",
    "ax.xaxis.set_major_locator(ticker.MultipleLocator(tick_spacing))\n",
    "\n",
    "ax.yaxis.set_ticks(np.arange(0, 1700, 200))\n",
    "ax.set_ylabel('SWE [mm]')\n",
    "ax.legend([p1,p2,p3,p4,p5], labels=[\"P01\", \"P02\", \"P03\", \"P04\", \"P05\"], loc=\"upper left\", fontsize = \"medium\")\n",
    "ax.set_title(elevation_swe_title, fontsize = 20)\n",
    "\n",
    "\n",
    "os.chdir(out_directory)\n",
    "plt.savefig(elevation_swe_output)\n",
    "plt.show()"
   ]
  },
  {
   "cell_type": "markdown",
   "id": "61a900e8",
   "metadata": {},
   "source": [
    "Week 4/5 : generate simple graphs, clean up code, back up to gihub"
   ]
  }
 ],
 "metadata": {
  "kernelspec": {
   "display_name": "Python 3 (ipykernel)",
   "language": "python",
   "name": "python3"
  },
  "language_info": {
   "codemirror_mode": {
    "name": "ipython",
    "version": 3
   },
   "file_extension": ".py",
   "mimetype": "text/x-python",
   "name": "python",
   "nbconvert_exporter": "python",
   "pygments_lexer": "ipython3",
   "version": "3.10.2"
  }
 },
 "nbformat": 4,
 "nbformat_minor": 5
}
