{
 "cells": [
  {
   "cell_type": "code",
   "execution_count": 1,
   "id": "b387ab20",
   "metadata": {},
   "outputs": [],
   "source": [
    "import os\n",
    "import pandas as pd\n",
    "#import seaborn as sns\n",
    "import numpy as np\n",
    "import matplotlib.pyplot as plt\n",
    "import matplotlib.ticker as ticker\n",
    "from matplotlib.ticker import AutoMinorLocator"
   ]
  },
  {
   "cell_type": "code",
   "execution_count": 2,
   "id": "8a8d941b",
   "metadata": {},
   "outputs": [],
   "source": [
    "directory = r\"H:\\Englishman\\2021\\Field_Survey_data\\published\"\n",
    "name = \"EGM\"\n",
    "#watershed = \"cokely\"\n",
    "out_directory = r\"H:\\Englishman\\2021\\Field_Survey_data\\published\""
   ]
  },
  {
   "cell_type": "markdown",
   "id": "52fcfdca",
   "metadata": {},
   "source": [
    "Need to find the file name, in order to slice and dice by phase and elevation"
   ]
  },
  {
   "cell_type": "code",
   "execution_count": 3,
   "id": "a6d65c27",
   "metadata": {},
   "outputs": [
    {
     "data": {
      "text/plain": [
       "'EGM_P01.csv'"
      ]
     },
     "metadata": {},
     "output_type": "display_data"
    },
    {
     "data": {
      "text/plain": [
       "'P01'"
      ]
     },
     "metadata": {},
     "output_type": "display_data"
    },
    {
     "data": {
      "text/plain": [
       "''"
      ]
     },
     "metadata": {},
     "output_type": "display_data"
    },
    {
     "data": {
      "text/plain": [
       "'EGM_P02.csv'"
      ]
     },
     "metadata": {},
     "output_type": "display_data"
    },
    {
     "data": {
      "text/plain": [
       "'P02'"
      ]
     },
     "metadata": {},
     "output_type": "display_data"
    },
    {
     "data": {
      "text/plain": [
       "''"
      ]
     },
     "metadata": {},
     "output_type": "display_data"
    },
    {
     "data": {
      "text/plain": [
       "'EGM_P03.csv'"
      ]
     },
     "metadata": {},
     "output_type": "display_data"
    },
    {
     "data": {
      "text/plain": [
       "'P03'"
      ]
     },
     "metadata": {},
     "output_type": "display_data"
    },
    {
     "data": {
      "text/plain": [
       "''"
      ]
     },
     "metadata": {},
     "output_type": "display_data"
    },
    {
     "data": {
      "text/plain": [
       "'EGM_P04.csv'"
      ]
     },
     "metadata": {},
     "output_type": "display_data"
    },
    {
     "data": {
      "text/plain": [
       "'P04'"
      ]
     },
     "metadata": {},
     "output_type": "display_data"
    },
    {
     "data": {
      "text/plain": [
       "''"
      ]
     },
     "metadata": {},
     "output_type": "display_data"
    },
    {
     "data": {
      "text/plain": [
       "'EGM_P05.csv'"
      ]
     },
     "metadata": {},
     "output_type": "display_data"
    },
    {
     "data": {
      "text/plain": [
       "'P05'"
      ]
     },
     "metadata": {},
     "output_type": "display_data"
    },
    {
     "data": {
      "text/plain": [
       "''"
      ]
     },
     "metadata": {},
     "output_type": "display_data"
    }
   ],
   "source": [
    "os.chdir(directory)\n",
    "df = pd.DataFrame()\n",
    "file_end = \"csv\"\n",
    "# function to append all data in a folder\n",
    "for file in os.listdir(directory):\n",
    "    if file.endswith(file_end):\n",
    "        input_csv = pd.read_csv(file)\n",
    "        display(file)\n",
    "        #testing for phase\n",
    "        display(file[4:7])\n",
    "        #testing for elevation\n",
    "        display(file[12:-4])         "
   ]
  },
  {
   "cell_type": "code",
   "execution_count": 4,
   "id": "f5d1072a",
   "metadata": {},
   "outputs": [],
   "source": [
    "def append_files_in_folder(directory,file_end):\n",
    "    os.chdir(directory)\n",
    "    df = pd.DataFrame()\n",
    "    # function to append all data in a folder\n",
    "    for file in os.listdir(directory):\n",
    "        if file.endswith(file_end):\n",
    "            input_csv = pd.read_csv(file)\n",
    "            #This is specific to file name, will need to adjust\n",
    "            display(file)\n",
    "            input_csv[\"phase\"]=file[4:7]\n",
    "            #input_csv[\"elev\"]=file[12:-4]\n",
    "            #input_csv[\"wshed\"]=watershed\n",
    "            df = df.append(input_csv)\n",
    "\n",
    "    df.columns = df.columns.str.lower()\n",
    "    print(df.head())\n",
    "    return df\n"
   ]
  },
  {
   "cell_type": "markdown",
   "id": "fb320ef0",
   "metadata": {},
   "source": [
    "CAll function to append files to one csv"
   ]
  },
  {
   "cell_type": "code",
   "execution_count": 5,
   "id": "956328be",
   "metadata": {},
   "outputs": [
    {
     "data": {
      "text/plain": [
       "'EGM_P01.csv'"
      ]
     },
     "metadata": {},
     "output_type": "display_data"
    },
    {
     "data": {
      "text/plain": [
       "'EGM_P02.csv'"
      ]
     },
     "metadata": {},
     "output_type": "display_data"
    },
    {
     "data": {
      "text/plain": [
       "'EGM_P03.csv'"
      ]
     },
     "metadata": {},
     "output_type": "display_data"
    },
    {
     "data": {
      "text/plain": [
       "'EGM_P04.csv'"
      ]
     },
     "metadata": {},
     "output_type": "display_data"
    },
    {
     "data": {
      "text/plain": [
       "'EGM_P05.csv'"
      ]
     },
     "metadata": {},
     "output_type": "display_data"
    },
    {
     "name": "stdout",
     "output_type": "stream",
     "text": [
      "   aco_flight_number       plot_datetime  study_area plot_id      plot_type  \\\n",
      "0                  1   3/9/2021 16:36:00  Englishman     S3F  Cardinal 10 m   \n",
      "1                  1  3/10/2021 10:39:00  Englishman     S1A  Cardinal 10 m   \n",
      "2                  1  3/10/2021 12:50:00  Englishman     E1A  Cardinal 10 m   \n",
      "3                  1  3/11/2021 13:51:00  Englishman     N2F  Cardinal 10 m   \n",
      "4                  1  3/11/2021 13:51:00  Englishman     N2F  Cardinal 10 m   \n",
      "\n",
      "  cardinal  distance multi_core  depth   core  ...  canopy_cover  \\\n",
      "0   Centre       NaN        NaN    240    NaN  ...          75.0   \n",
      "1   Centre       NaN         no    365  345.0  ...          60.0   \n",
      "2   Centre       NaN        NaN    415    NaN  ...           NaN   \n",
      "3   Centre       NaN        NaN    320    NaN  ...           NaN   \n",
      "4   Centre       NaN         no    308  290.0  ...           NaN   \n",
      "\n",
      "   canopy_density canopy_height  slope  aspect_type    cover_type  \\\n",
      "0            75.0           5.0   22.0    Southwest  under_canopy   \n",
      "1            50.0           2.0   14.0    Southeast  under_canopy   \n",
      "2             NaN           NaN    8.0    Northwest          open   \n",
      "3             NaN           NaN    7.0    Northwest          open   \n",
      "4             NaN           NaN    7.0    Northwest          open   \n",
      "\n",
      "   elevation.1     swe_189  density_189  phase  \n",
      "0  1376.939941         NaN          NaN    P01  \n",
      "1  1552.520019  122.971821     0.336909    P01  \n",
      "2  1549.069946         NaN          NaN    P01  \n",
      "3  1332.550049         NaN          NaN    P01  \n",
      "4  1332.550049  117.625220     0.381900    P01  \n",
      "\n",
      "[5 rows x 28 columns]\n"
     ]
    }
   ],
   "source": [
    "all = append_files_in_folder(directory, \"csv\")"
   ]
  },
  {
   "cell_type": "code",
   "execution_count": 6,
   "id": "14f6c6cc",
   "metadata": {},
   "outputs": [],
   "source": [
    "all.to_csv(\"EGM_all.csv\")"
   ]
  },
  {
   "cell_type": "code",
   "execution_count": 45,
   "id": "3bd0e5cc",
   "metadata": {},
   "outputs": [
    {
     "data": {
      "text/html": [
       "<div>\n",
       "<style scoped>\n",
       "    .dataframe tbody tr th:only-of-type {\n",
       "        vertical-align: middle;\n",
       "    }\n",
       "\n",
       "    .dataframe tbody tr th {\n",
       "        vertical-align: top;\n",
       "    }\n",
       "\n",
       "    .dataframe thead th {\n",
       "        text-align: right;\n",
       "    }\n",
       "</style>\n",
       "<table border=\"1\" class=\"dataframe\">\n",
       "  <thead>\n",
       "    <tr style=\"text-align: right;\">\n",
       "      <th></th>\n",
       "      <th>objectid</th>\n",
       "      <th>aspect</th>\n",
       "      <th>zone_code</th>\n",
       "      <th>count</th>\n",
       "      <th>area</th>\n",
       "      <th>min</th>\n",
       "      <th>max</th>\n",
       "      <th>range</th>\n",
       "      <th>mean</th>\n",
       "      <th>std</th>\n",
       "      <th>sum</th>\n",
       "      <th>phase</th>\n",
       "      <th>elev</th>\n",
       "      <th>wshed</th>\n",
       "    </tr>\n",
       "  </thead>\n",
       "  <tbody>\n",
       "    <tr>\n",
       "      <th>0</th>\n",
       "      <td>1</td>\n",
       "      <td>N</td>\n",
       "      <td>2</td>\n",
       "      <td>7031</td>\n",
       "      <td>63279.0</td>\n",
       "      <td>-0.673813</td>\n",
       "      <td>25.286791</td>\n",
       "      <td>25.960604</td>\n",
       "      <td>3.720391</td>\n",
       "      <td>2.239078</td>\n",
       "      <td>26158.071362</td>\n",
       "      <td>p01</td>\n",
       "      <td>elev1000_1100</td>\n",
       "      <td>cokely</td>\n",
       "    </tr>\n",
       "    <tr>\n",
       "      <th>1</th>\n",
       "      <td>2</td>\n",
       "      <td>NE</td>\n",
       "      <td>3</td>\n",
       "      <td>5552</td>\n",
       "      <td>49968.0</td>\n",
       "      <td>-0.677571</td>\n",
       "      <td>22.977707</td>\n",
       "      <td>23.655278</td>\n",
       "      <td>3.504999</td>\n",
       "      <td>2.010390</td>\n",
       "      <td>19459.756649</td>\n",
       "      <td>p01</td>\n",
       "      <td>elev1000_1100</td>\n",
       "      <td>cokely</td>\n",
       "    </tr>\n",
       "    <tr>\n",
       "      <th>2</th>\n",
       "      <td>3</td>\n",
       "      <td>E</td>\n",
       "      <td>4</td>\n",
       "      <td>1141</td>\n",
       "      <td>10269.0</td>\n",
       "      <td>-0.670056</td>\n",
       "      <td>19.894613</td>\n",
       "      <td>20.564669</td>\n",
       "      <td>3.824185</td>\n",
       "      <td>2.384517</td>\n",
       "      <td>4363.394575</td>\n",
       "      <td>p01</td>\n",
       "      <td>elev1000_1100</td>\n",
       "      <td>cokely</td>\n",
       "    </tr>\n",
       "    <tr>\n",
       "      <th>3</th>\n",
       "      <td>4</td>\n",
       "      <td>SE</td>\n",
       "      <td>5</td>\n",
       "      <td>406</td>\n",
       "      <td>3654.0</td>\n",
       "      <td>-0.025466</td>\n",
       "      <td>20.728321</td>\n",
       "      <td>20.753787</td>\n",
       "      <td>4.517937</td>\n",
       "      <td>2.993153</td>\n",
       "      <td>1834.282578</td>\n",
       "      <td>p01</td>\n",
       "      <td>elev1000_1100</td>\n",
       "      <td>cokely</td>\n",
       "    </tr>\n",
       "    <tr>\n",
       "      <th>4</th>\n",
       "      <td>5</td>\n",
       "      <td>S</td>\n",
       "      <td>6</td>\n",
       "      <td>612</td>\n",
       "      <td>5508.0</td>\n",
       "      <td>-0.576958</td>\n",
       "      <td>18.787037</td>\n",
       "      <td>19.363995</td>\n",
       "      <td>4.714763</td>\n",
       "      <td>1.959834</td>\n",
       "      <td>2885.434717</td>\n",
       "      <td>p01</td>\n",
       "      <td>elev1000_1100</td>\n",
       "      <td>cokely</td>\n",
       "    </tr>\n",
       "    <tr>\n",
       "      <th>...</th>\n",
       "      <td>...</td>\n",
       "      <td>...</td>\n",
       "      <td>...</td>\n",
       "      <td>...</td>\n",
       "      <td>...</td>\n",
       "      <td>...</td>\n",
       "      <td>...</td>\n",
       "      <td>...</td>\n",
       "      <td>...</td>\n",
       "      <td>...</td>\n",
       "      <td>...</td>\n",
       "      <td>...</td>\n",
       "      <td>...</td>\n",
       "      <td>...</td>\n",
       "    </tr>\n",
       "    <tr>\n",
       "      <th>5</th>\n",
       "      <td>6</td>\n",
       "      <td>SW</td>\n",
       "      <td>7</td>\n",
       "      <td>138</td>\n",
       "      <td>1242.0</td>\n",
       "      <td>-1.015104</td>\n",
       "      <td>20.955223</td>\n",
       "      <td>21.970327</td>\n",
       "      <td>2.353456</td>\n",
       "      <td>3.285668</td>\n",
       "      <td>324.776969</td>\n",
       "      <td>p05</td>\n",
       "      <td>elev1500_1600</td>\n",
       "      <td>cokely</td>\n",
       "    </tr>\n",
       "    <tr>\n",
       "      <th>6</th>\n",
       "      <td>7</td>\n",
       "      <td>W</td>\n",
       "      <td>8</td>\n",
       "      <td>1613</td>\n",
       "      <td>14517.0</td>\n",
       "      <td>-1.023245</td>\n",
       "      <td>40.443836</td>\n",
       "      <td>41.467081</td>\n",
       "      <td>5.703675</td>\n",
       "      <td>6.680081</td>\n",
       "      <td>9200.027859</td>\n",
       "      <td>p05</td>\n",
       "      <td>elev1500_1600</td>\n",
       "      <td>cokely</td>\n",
       "    </tr>\n",
       "    <tr>\n",
       "      <th>7</th>\n",
       "      <td>8</td>\n",
       "      <td>NW</td>\n",
       "      <td>9</td>\n",
       "      <td>1239</td>\n",
       "      <td>11151.0</td>\n",
       "      <td>-1.021992</td>\n",
       "      <td>24.444525</td>\n",
       "      <td>25.466517</td>\n",
       "      <td>3.450820</td>\n",
       "      <td>4.445457</td>\n",
       "      <td>4275.566105</td>\n",
       "      <td>p05</td>\n",
       "      <td>elev1500_1600</td>\n",
       "      <td>cokely</td>\n",
       "    </tr>\n",
       "    <tr>\n",
       "      <th>0</th>\n",
       "      <td>1</td>\n",
       "      <td>NE</td>\n",
       "      <td>3</td>\n",
       "      <td>2</td>\n",
       "      <td>18.0</td>\n",
       "      <td>0.445780</td>\n",
       "      <td>1.079291</td>\n",
       "      <td>0.633512</td>\n",
       "      <td>0.762535</td>\n",
       "      <td>0.316756</td>\n",
       "      <td>1.525071</td>\n",
       "      <td>p05</td>\n",
       "      <td>elev800_900</td>\n",
       "      <td>cokely</td>\n",
       "    </tr>\n",
       "    <tr>\n",
       "      <th>0</th>\n",
       "      <td>1</td>\n",
       "      <td>N</td>\n",
       "      <td>2</td>\n",
       "      <td>1</td>\n",
       "      <td>9.0</td>\n",
       "      <td>1.736093</td>\n",
       "      <td>1.736093</td>\n",
       "      <td>0.000000</td>\n",
       "      <td>1.736093</td>\n",
       "      <td>0.000000</td>\n",
       "      <td>1.736093</td>\n",
       "      <td>p05</td>\n",
       "      <td>elev900_1000</td>\n",
       "      <td>cokely</td>\n",
       "    </tr>\n",
       "  </tbody>\n",
       "</table>\n",
       "<p>250 rows × 14 columns</p>\n",
       "</div>"
      ],
      "text/plain": [
       "   objectid aspect zone_code count     area       min        max      range  \\\n",
       "0         1      N         2  7031  63279.0 -0.673813  25.286791  25.960604   \n",
       "1         2     NE         3  5552  49968.0 -0.677571  22.977707  23.655278   \n",
       "2         3      E         4  1141  10269.0 -0.670056  19.894613  20.564669   \n",
       "3         4     SE         5   406   3654.0 -0.025466  20.728321  20.753787   \n",
       "4         5      S         6   612   5508.0 -0.576958  18.787037  19.363995   \n",
       "..      ...    ...       ...   ...      ...       ...        ...        ...   \n",
       "5         6     SW         7   138   1242.0 -1.015104  20.955223  21.970327   \n",
       "6         7      W         8  1613  14517.0 -1.023245  40.443836  41.467081   \n",
       "7         8     NW         9  1239  11151.0 -1.021992  24.444525  25.466517   \n",
       "0         1     NE         3     2     18.0  0.445780   1.079291   0.633512   \n",
       "0         1      N         2     1      9.0  1.736093   1.736093   0.000000   \n",
       "\n",
       "        mean       std           sum phase           elev   wshed  \n",
       "0   3.720391  2.239078  26158.071362   p01  elev1000_1100  cokely  \n",
       "1   3.504999  2.010390  19459.756649   p01  elev1000_1100  cokely  \n",
       "2   3.824185  2.384517   4363.394575   p01  elev1000_1100  cokely  \n",
       "3   4.517937  2.993153   1834.282578   p01  elev1000_1100  cokely  \n",
       "4   4.714763  1.959834   2885.434717   p01  elev1000_1100  cokely  \n",
       "..       ...       ...           ...   ...            ...     ...  \n",
       "5   2.353456  3.285668    324.776969   p05  elev1500_1600  cokely  \n",
       "6   5.703675  6.680081   9200.027859   p05  elev1500_1600  cokely  \n",
       "7   3.450820  4.445457   4275.566105   p05  elev1500_1600  cokely  \n",
       "0   0.762535  0.316756      1.525071   p05    elev800_900  cokely  \n",
       "0   1.736093  0.000000      1.736093   p05   elev900_1000  cokely  \n",
       "\n",
       "[250 rows x 14 columns]"
      ]
     },
     "metadata": {},
     "output_type": "display_data"
    }
   ],
   "source": [
    "display(all)"
   ]
  },
  {
   "cell_type": "markdown",
   "id": "c0a5ad08",
   "metadata": {},
   "source": [
    "keep only certain columns and export: \"aspect\", \"area\", \"sum\", \"phase\", \"elev\", \"wshed\""
   ]
  },
  {
   "cell_type": "code",
   "execution_count": 46,
   "id": "ce45aa70",
   "metadata": {},
   "outputs": [
    {
     "data": {
      "text/html": [
       "<div>\n",
       "<style scoped>\n",
       "    .dataframe tbody tr th:only-of-type {\n",
       "        vertical-align: middle;\n",
       "    }\n",
       "\n",
       "    .dataframe tbody tr th {\n",
       "        vertical-align: top;\n",
       "    }\n",
       "\n",
       "    .dataframe thead th {\n",
       "        text-align: right;\n",
       "    }\n",
       "</style>\n",
       "<table border=\"1\" class=\"dataframe\">\n",
       "  <thead>\n",
       "    <tr style=\"text-align: right;\">\n",
       "      <th></th>\n",
       "      <th>aspect</th>\n",
       "      <th>area</th>\n",
       "      <th>sum</th>\n",
       "      <th>phase</th>\n",
       "      <th>elev</th>\n",
       "      <th>wshed</th>\n",
       "    </tr>\n",
       "  </thead>\n",
       "  <tbody>\n",
       "    <tr>\n",
       "      <th>0</th>\n",
       "      <td>N</td>\n",
       "      <td>63279.0</td>\n",
       "      <td>26158.071362</td>\n",
       "      <td>p01</td>\n",
       "      <td>elev1000_1100</td>\n",
       "      <td>cokely</td>\n",
       "    </tr>\n",
       "    <tr>\n",
       "      <th>1</th>\n",
       "      <td>NE</td>\n",
       "      <td>49968.0</td>\n",
       "      <td>19459.756649</td>\n",
       "      <td>p01</td>\n",
       "      <td>elev1000_1100</td>\n",
       "      <td>cokely</td>\n",
       "    </tr>\n",
       "    <tr>\n",
       "      <th>2</th>\n",
       "      <td>E</td>\n",
       "      <td>10269.0</td>\n",
       "      <td>4363.394575</td>\n",
       "      <td>p01</td>\n",
       "      <td>elev1000_1100</td>\n",
       "      <td>cokely</td>\n",
       "    </tr>\n",
       "    <tr>\n",
       "      <th>3</th>\n",
       "      <td>SE</td>\n",
       "      <td>3654.0</td>\n",
       "      <td>1834.282578</td>\n",
       "      <td>p01</td>\n",
       "      <td>elev1000_1100</td>\n",
       "      <td>cokely</td>\n",
       "    </tr>\n",
       "    <tr>\n",
       "      <th>4</th>\n",
       "      <td>S</td>\n",
       "      <td>5508.0</td>\n",
       "      <td>2885.434717</td>\n",
       "      <td>p01</td>\n",
       "      <td>elev1000_1100</td>\n",
       "      <td>cokely</td>\n",
       "    </tr>\n",
       "    <tr>\n",
       "      <th>...</th>\n",
       "      <td>...</td>\n",
       "      <td>...</td>\n",
       "      <td>...</td>\n",
       "      <td>...</td>\n",
       "      <td>...</td>\n",
       "      <td>...</td>\n",
       "    </tr>\n",
       "    <tr>\n",
       "      <th>5</th>\n",
       "      <td>SW</td>\n",
       "      <td>1242.0</td>\n",
       "      <td>324.776969</td>\n",
       "      <td>p05</td>\n",
       "      <td>elev1500_1600</td>\n",
       "      <td>cokely</td>\n",
       "    </tr>\n",
       "    <tr>\n",
       "      <th>6</th>\n",
       "      <td>W</td>\n",
       "      <td>14517.0</td>\n",
       "      <td>9200.027859</td>\n",
       "      <td>p05</td>\n",
       "      <td>elev1500_1600</td>\n",
       "      <td>cokely</td>\n",
       "    </tr>\n",
       "    <tr>\n",
       "      <th>7</th>\n",
       "      <td>NW</td>\n",
       "      <td>11151.0</td>\n",
       "      <td>4275.566105</td>\n",
       "      <td>p05</td>\n",
       "      <td>elev1500_1600</td>\n",
       "      <td>cokely</td>\n",
       "    </tr>\n",
       "    <tr>\n",
       "      <th>0</th>\n",
       "      <td>NE</td>\n",
       "      <td>18.0</td>\n",
       "      <td>1.525071</td>\n",
       "      <td>p05</td>\n",
       "      <td>elev800_900</td>\n",
       "      <td>cokely</td>\n",
       "    </tr>\n",
       "    <tr>\n",
       "      <th>0</th>\n",
       "      <td>N</td>\n",
       "      <td>9.0</td>\n",
       "      <td>1.736093</td>\n",
       "      <td>p05</td>\n",
       "      <td>elev900_1000</td>\n",
       "      <td>cokely</td>\n",
       "    </tr>\n",
       "  </tbody>\n",
       "</table>\n",
       "<p>250 rows × 6 columns</p>\n",
       "</div>"
      ],
      "text/plain": [
       "   aspect     area           sum phase           elev   wshed\n",
       "0       N  63279.0  26158.071362   p01  elev1000_1100  cokely\n",
       "1      NE  49968.0  19459.756649   p01  elev1000_1100  cokely\n",
       "2       E  10269.0   4363.394575   p01  elev1000_1100  cokely\n",
       "3      SE   3654.0   1834.282578   p01  elev1000_1100  cokely\n",
       "4       S   5508.0   2885.434717   p01  elev1000_1100  cokely\n",
       "..    ...      ...           ...   ...            ...     ...\n",
       "5      SW   1242.0    324.776969   p05  elev1500_1600  cokely\n",
       "6       W  14517.0   9200.027859   p05  elev1500_1600  cokely\n",
       "7      NW  11151.0   4275.566105   p05  elev1500_1600  cokely\n",
       "0      NE     18.0      1.525071   p05    elev800_900  cokely\n",
       "0       N      9.0      1.736093   p05   elev900_1000  cokely\n",
       "\n",
       "[250 rows x 6 columns]"
      ]
     },
     "metadata": {},
     "output_type": "display_data"
    }
   ],
   "source": [
    "all = all[[ \"aspect\", \"area\", \"sum\", \"phase\", \"elev\", \"wshed\"]]\n",
    "display(all)\n",
    "os.chdir(out_directory)\n",
    "all.to_csv(watershed + \".csv\", index=False)"
   ]
  }
 ],
 "metadata": {
  "kernelspec": {
   "display_name": "Python 3 (ipykernel)",
   "language": "python",
   "name": "python3"
  },
  "language_info": {
   "codemirror_mode": {
    "name": "ipython",
    "version": 3
   },
   "file_extension": ".py",
   "mimetype": "text/x-python",
   "name": "python",
   "nbconvert_exporter": "python",
   "pygments_lexer": "ipython3",
   "version": "3.10.2"
  }
 },
 "nbformat": 4,
 "nbformat_minor": 5
}
