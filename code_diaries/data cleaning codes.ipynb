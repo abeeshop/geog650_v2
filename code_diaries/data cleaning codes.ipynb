{
 "cells": [
  {
   "cell_type": "code",
   "execution_count": 1,
   "id": "777ce360",
   "metadata": {},
   "outputs": [],
   "source": [
    "import pandas as pd\n",
    "import sys\n",
    "import os\n",
    "import glob"
   ]
  },
  {
   "cell_type": "code",
   "execution_count": 3,
   "id": "c62f0d7a",
   "metadata": {},
   "outputs": [],
   "source": [
    "def combine_csv(file_name, directory):\n",
    "\n",
    "    os.chdir(directory)\n",
    "\n",
    "    # Match the pattern (‘csv’) and save the list of file names in the ‘all_filenames’ variable.\n",
    "    extension = 'csv'\n",
    "    all_filenames = [i for i in glob.glob('*.{}'.format(extension))]\n",
    "\n",
    "    # combine all files in the list\n",
    "    combined_csv = pd.concat([pd.read_csv(f) for f in all_filenames])\n",
    "    combined_csv.drop_duplicates()\n",
    "    # export to csv\n",
    "    combined_csv.to_csv(file_name, index=False)\n",
    "\n",
    "combine_csv(\"Cruickshank_all.csv\", r\"H:\\Cruickshank\\2021\\Field_data\\published\\surveys\")"
   ]
  }
 ],
 "metadata": {
  "kernelspec": {
   "display_name": "Python 3 (ipykernel)",
   "language": "python",
   "name": "python3"
  },
  "language_info": {
   "codemirror_mode": {
    "name": "ipython",
    "version": 3
   },
   "file_extension": ".py",
   "mimetype": "text/x-python",
   "name": "python",
   "nbconvert_exporter": "python",
   "pygments_lexer": "ipython3",
   "version": "3.10.2"
  }
 },
 "nbformat": 4,
 "nbformat_minor": 5
}
