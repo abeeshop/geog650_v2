{
 "cells": [
  {
   "cell_type": "code",
   "execution_count": 1,
   "id": "318719dc",
   "metadata": {},
   "outputs": [],
   "source": [
    "import subprocess\n",
    "import os"
   ]
  },
  {
   "cell_type": "code",
   "execution_count": 3,
   "id": "232fa89a",
   "metadata": {},
   "outputs": [
    {
     "ename": "SyntaxError",
     "evalue": "unexpected character after line continuation character (2480627671.py, line 1)",
     "output_type": "error",
     "traceback": [
      "\u001b[1;36m  Input \u001b[1;32mIn [3]\u001b[1;36m\u001b[0m\n\u001b[1;33m    subprocess.call(python %CONDA_PREFIX%\\Scripts\\gdal_calc.py -A H:\\Metro-Van\\2021\\DEM\\Coreg_STM\\warp\\VAN_P01_coregwarp_1.tif -B H:\\Metro-Van\\2021\\DEM\\Baseline_Master_Dataset_WGS84\\VAN_snowfree_merged_wgs84_utm10_itrf08_epoch2002_dz20cm_1mDEM.tif --outfile=r\"H:\\Metro-Van\\2021\\DEM\\SD_gdal\\VAN_P01_sd.tif\" --calc=\"A-B\")\u001b[0m\n\u001b[1;37m                                          ^\u001b[0m\n\u001b[1;31mSyntaxError\u001b[0m\u001b[1;31m:\u001b[0m unexpected character after line continuation character\n"
     ]
    }
   ],
   "source": [
    "subprocess.call(python %CONDA_PREFIX%\\Scripts\\gdal_calc.py -A H:\\Metro-Van\\2021\\DEM\\Coreg_STM\\warp\\VAN_P01_coregwarp_1.tif -B H:\\Metro-Van\\2021\\DEM\\Baseline_Master_Dataset_WGS84\\VAN_snowfree_merged_wgs84_utm10_itrf08_epoch2002_dz20cm_1mDEM.tif --outfile=r\"H:\\Metro-Van\\2021\\DEM\\SD_gdal\\VAN_P01_sd.tif\" --calc=\"A-B\")"
   ]
  },
  {
   "cell_type": "code",
   "execution_count": null,
   "id": "93fc7eea",
   "metadata": {},
   "outputs": [],
   "source": [
    "directory = r\"H:\\Metro-Van\\2021\\DEM\"\n",
    "os.chdir(directory)\n",
    "A_snow_on = os.path.join(directory, \"Coreg_STM\", \"cru_p01_slave.tif\" )\n",
    "B_bareearth = os.path.join(directory, \"Bare_earth\", \"Cruickshank_1m_Snow_Free_DTM_WGS84_z10_ellips.tif\")\n",
    "outfile = os.path.join(directory,\"test_gdal_subprocess.tif\")\n",
    "\n",
    "subprocess.call('gdal_calc.py - A A_snow_on - B B_bareearth --outfile=outfile --calc=\"A-B\"',shell=True)"
   ]
  },
  {
   "cell_type": "code",
   "execution_count": 6,
   "id": "16490f2b",
   "metadata": {},
   "outputs": [
    {
     "data": {
      "text/plain": [
       "CompletedProcess(args='echo foo; sleep 1; echo foo; sleep 2; echo foo', returncode=0)"
      ]
     },
     "execution_count": 6,
     "metadata": {},
     "output_type": "execute_result"
    }
   ],
   "source": [
    "import subprocess\n",
    "\n",
    "cmd = 'echo foo; sleep 1; echo foo; sleep 2; echo foo'\n",
    "subprocess.run(cmd, shell=True)\n"
   ]
  },
  {
   "cell_type": "code",
   "execution_count": 7,
   "id": "296589d3",
   "metadata": {},
   "outputs": [
    {
     "data": {
      "text/plain": [
       "1"
      ]
     },
     "execution_count": 7,
     "metadata": {},
     "output_type": "execute_result"
    }
   ],
   "source": [
    "#gdalwarp\n",
    "infile = r\"H:\\Englishman\\2021\\DEMs\\co-registered_STM\\EGM_P01_STM_coreg.tif\"\n",
    "outfile = r\"H:\\Englishman\\2021\\DEMs\\co-registered_STM\\EGM_P01_STM_warp.tif\"\n",
    "coordinates = \"380836.000 5465596.000 392000.000, 5465596.000\"\n",
    "subprocess.call(\"gdalwarp -te coordinates infile outfile\", shell=True)\n"
   ]
  }
 ],
 "metadata": {
  "kernelspec": {
   "display_name": "Python 3 (ipykernel)",
   "language": "python",
   "name": "python3"
  },
  "language_info": {
   "codemirror_mode": {
    "name": "ipython",
    "version": 3
   },
   "file_extension": ".py",
   "mimetype": "text/x-python",
   "name": "python",
   "nbconvert_exporter": "python",
   "pygments_lexer": "ipython3",
   "version": "3.10.2"
  }
 },
 "nbformat": 4,
 "nbformat_minor": 5
}
