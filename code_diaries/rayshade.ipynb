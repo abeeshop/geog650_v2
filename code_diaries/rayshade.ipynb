{
 "cells": [
  {
   "cell_type": "code",
   "execution_count": null,
   "id": "828636ae",
   "metadata": {},
   "outputs": [],
   "source": [
    "import tempfile\n",
    "\n",
    "import matplotlib.pyplot as plt\n",
    "import numpy as np\n",
    "import rasterio as rio\n",
    "import rpy2.robjects as ro\n",
    "import rpy2.robjects.numpy2ri\n",
    "import rpy2.robjects.packages as rpackages\n",
    "\n",
    "rpy2.robjects.numpy2ri.activate()"
   ]
  },
  {
   "cell_type": "code",
   "execution_count": null,
   "id": "bb513b1a",
   "metadata": {},
   "outputs": [],
   "source": [
    "dem = r\"H:\\Englishman\\2021\\DEMs\\bare_earth\\EGM_BE_wgs84_1m.tif\"\n",
    "with rio.open(dem) as f:\n",
    "    z = f.read(1)\n",
    "    \n",
    "plt.imshow(z)"
   ]
  },
  {
   "cell_type": "code",
   "execution_count": null,
   "id": "a6402d9d",
   "metadata": {},
   "outputs": [],
   "source": [
    "def rayshade(z, img_path=None, zscale=10, fov=0, theta=135, zoom=0.75, phi=45, windowsize=(1000, 1000)):\n",
    "    \n",
    "    # Output path.\n",
    "    if not img_path:\n",
    "        img_path = tempfile.NamedTemporaryFile(suffix='.png').name\n",
    "    \n",
    "    # Import needed packages.\n",
    "    rayshader = rpackages.importr('rayshader')\n",
    "    \n",
    "    # Convert array to matrix.\n",
    "    z = np.asarray(z)\n",
    "    rows, cols = z.shape\n",
    "    z_mat = ro.r.matrix(z, nrow=rows, ncol=cols)\n",
    "    ro.globalenv['elmat'] = z_mat\n",
    "    \n",
    "    # Save python state to r.\n",
    "    ro.globalenv['img_path'] = img_path\n",
    "    ro.globalenv['zscale'] = zscale\n",
    "    ro.globalenv['fov'] = fov\n",
    "    ro.globalenv['theta'] = theta\n",
    "    ro.globalenv['zoom'] = zoom\n",
    "    ro.globalenv['phi'] = phi\n",
    "    ro.globalenv['windowsize'] = ro.IntVector(windowsize)\n",
    "    \n",
    "    # Do the render.\n",
    "    ro.r('''\n",
    "        elmat %>%\n",
    "          sphere_shade(texture = \"desert\") %>%\n",
    "          add_water(detect_water(elmat), color = \"desert\") %>%\n",
    "          add_shadow(ray_shade(elmat, zscale = 3), 0.5) %>%\n",
    "          add_shadow(ambient_shade(elmat), 0) %>%\n",
    "          plot_3d(elmat, zscale = zscale, fov = fov, theta = theta, zoom = zoom, phi = phi, windowsize = windowsize)\n",
    "        Sys.sleep(0.2)\n",
    "        render_snapshot(img_path)\n",
    "    ''')\n",
    "    \n",
    "    # Return path.\n",
    "    return img_path"
   ]
  },
  {
   "cell_type": "code",
   "execution_count": null,
   "id": "b1f1b771",
   "metadata": {},
   "outputs": [],
   "source": [
    "img_path = rayshade(z)\n",
    "\n",
    "from IPython.display import Image\n",
    "Image(filename=img_path) "
   ]
  }
 ],
 "metadata": {
  "kernelspec": {
   "display_name": "Python 3 (ipykernel)",
   "language": "python",
   "name": "python3"
  },
  "language_info": {
   "codemirror_mode": {
    "name": "ipython",
    "version": 3
   },
   "file_extension": ".py",
   "mimetype": "text/x-python",
   "name": "python",
   "nbconvert_exporter": "python",
   "pygments_lexer": "ipython3",
   "version": "3.10.2"
  }
 },
 "nbformat": 4,
 "nbformat_minor": 5
}
