{
 "cells": [
  {
   "cell_type": "markdown",
   "id": "0428b17f",
   "metadata": {},
   "source": [
    "Using rasterio to apply a 45 cm offset to snow surveys. I will convert to a numpy array, apply offset, then export as a tiff"
   ]
  },
  {
   "cell_type": "code",
   "execution_count": 1,
   "id": "566b240f",
   "metadata": {},
   "outputs": [],
   "source": [
    "import numpy as np\n",
    "import matplotlib.pyplot as plt\n",
    "import geopandas as gpd\n",
    "import rasterio as rio\n",
    "from rasterio.plot import show\n",
    "import cartopy.crs as ccrs\n",
    "import os\n",
    "\n",
    "%matplotlib inline"
   ]
  },
  {
   "cell_type": "code",
   "execution_count": 2,
   "id": "b45bda7a",
   "metadata": {},
   "outputs": [],
   "source": [
    "#function to add 45 cm to snow depth rasters"
   ]
  },
  {
   "cell_type": "code",
   "execution_count": 3,
   "id": "58d1ae60",
   "metadata": {},
   "outputs": [],
   "source": [
    "#change directory to working drive\n",
    "out_directory = (r\"H:\\Metro-Van\\2021\\GIS\\snow_depth_rasters\\1m_custom_45cm_offset\")\n",
    "in_file = \"P05_sd_1m_custom.tif\"\n",
    "out_name = \"VAN_P05_sd_45.tif\"\n",
    "\n",
    "os.chdir(in_directory)"
   ]
  },
  {
   "cell_type": "code",
   "execution_count": 4,
   "id": "698db033",
   "metadata": {},
   "outputs": [],
   "source": [
    "with rio.open(in_file) as src:\n",
    "    sd = src.read(1)\n",
    "    sd_meta = src.meta\n",
    "    sd_crs = src.crs"
   ]
  },
  {
   "cell_type": "code",
   "execution_count": 5,
   "id": "2ff605b4",
   "metadata": {},
   "outputs": [
    {
     "name": "stdout",
     "output_type": "stream",
     "text": [
      "(22503, 11358)\n",
      "<class 'numpy.ndarray'>\n"
     ]
    },
    {
     "data": {
      "text/plain": [
       "<matplotlib.image.AxesImage at 0x21004ccd870>"
      ]
     },
     "execution_count": 5,
     "metadata": {},
     "output_type": "execute_result"
    },
    {
     "data": {
      "image/png": "[encoded data removed]",
      "text/plain": [
       "<Figure size 432x288 with 1 Axes>"
      ]
     },
     "metadata": {
      "needs_background": "light"
     },
     "output_type": "display_data"
    }
   ],
   "source": [
    "print(sd.shape)\n",
    "print(type(sd))\n",
    "\n",
    "plt.imshow(sd)"
   ]
  },
  {
   "cell_type": "code",
   "execution_count": 6,
   "id": "cb11e7bd",
   "metadata": {},
   "outputs": [],
   "source": [
    "sd_offset = sd + .45"
   ]
  },
  {
   "cell_type": "code",
   "execution_count": 7,
   "id": "f392d9f2",
   "metadata": {},
   "outputs": [
    {
     "name": "stdout",
     "output_type": "stream",
     "text": [
      "-0.52368164\n",
      "-0.07368165\n"
     ]
    }
   ],
   "source": [
    "#testing the offset\n",
    "print(sd[5000,5000])\n",
    "print(sd_offset[5000,5000])\n"
   ]
  },
  {
   "cell_type": "code",
   "execution_count": 8,
   "id": "80dda942",
   "metadata": {},
   "outputs": [
    {
     "data": {
      "text/plain": [
       "(22503, 11358)"
      ]
     },
     "metadata": {},
     "output_type": "display_data"
    }
   ],
   "source": [
    "# create the metadata file for export\n",
    "display(sd_offset.shape)\n",
    "sd_meta.update({\"driver\": \"GTiff\",\n",
    "                 \"height\": sd_offset.shape[0],\n",
    "                 \"width\": sd_offset.shape[1]})\n"
   ]
  },
  {
   "cell_type": "code",
   "execution_count": 9,
   "id": "14dbff2b",
   "metadata": {},
   "outputs": [],
   "source": [
    "#exporting the raster as a tiff\n",
    "os.chdir(out_directory)\n",
    "with rio.open(out_name, \"w\", **sd_meta) as dst:\n",
    "    dst.write(sd_offset, 1)"
   ]
  }
 ],
 "metadata": {
  "kernelspec": {
   "display_name": "Python 3 (ipykernel)",
   "language": "python",
   "name": "python3"
  },
  "language_info": {
   "codemirror_mode": {
    "name": "ipython",
    "version": 3
   },
   "file_extension": ".py",
   "mimetype": "text/x-python",
   "name": "python",
   "nbconvert_exporter": "python",
   "pygments_lexer": "ipython3",
   "version": "3.10.2"
  }
 },
 "nbformat": 4,
 "nbformat_minor": 5
}
