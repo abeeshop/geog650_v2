{
 "cells": [
  {
   "cell_type": "markdown",
   "id": "a5cc0a48",
   "metadata": {},
   "source": [
    "# Goal: To extract no snow areas from snow depth rasters based on snow free polygons, calculate IQR, median, mean stats for the areas broken down by land cover\n",
    "1. Mask the snow depth data and mask the land cover grid by the snow free polygons\n",
    "2. Classify the landcover grid to its values - ie. road, lake, forest\n",
    "3. Generate stats for the IQR,median, and mean values\n",
    "4. Graph the results"
   ]
  },
  {
   "cell_type": "code",
   "execution_count": 175,
   "id": "e8359fb9",
   "metadata": {},
   "outputs": [],
   "source": [
    "from osgeo import gdal\n",
    "import matplotlib.pyplot as plt\n",
    "import numpy as np\n",
    "import rasterio as rio\n",
    "from rasterio.plot import show\n",
    "from rasterio.mask import mask\n",
    "import pandas as pd\n",
    "import fiona\n",
    "import os\n",
    "from scipy import sparse\n",
    "%matplotlib inline"
   ]
  },
  {
   "cell_type": "code",
   "execution_count": 176,
   "id": "d621da73",
   "metadata": {},
   "outputs": [],
   "source": [
    "#identify watershed\n",
    "wshed = \"VAN\"\n",
    "phase = \"P01\"\n",
    "name = wshed + \"_\" + phase\n",
    "#raster cell resolution\n",
    "resolution = 3\n",
    "#shapefile is the basin used to mask the rasters, should include the total lidar area if not a sub basin\n",
    "no_snow_mask = r\"H:\\Metro-Van\\2021\\GIS\\snow_free_shapefiles\\VAN_SF.shp\"\n",
    "\n",
    "# path to snowdepth raster, and path to a landcover grid\n",
    "snow_depth = r\"H:\\Metro-Van\\2021\\GIS\\snow_depth_rasters\\1m_revisedbe_jan27_nocoreg\\\\\" + name + \"_sd.tif\"\n",
    "land_cover = r\"H:\\Metro-Van\\2021\\GIS\\land_cover\\\\\" + wshed + \"_lc_clip.tif\"\n"
   ]
  },
  {
   "cell_type": "code",
   "execution_count": 177,
   "id": "e3be128c",
   "metadata": {},
   "outputs": [],
   "source": [
    "#extract the cooridnates of the no snow mask, note there is a problem here with z values being imported, need to ensure\n",
    "#z value disabled when exporting from arc (under environments), need to find fix for this!\n",
    "\n",
    "def coords (no_snow_mask):\n",
    "    with fiona.open(no_snow_mask) as shapefile:\n",
    "        for feature in shapefile:\n",
    "            shapes = [feature[\"geometry\"]]\n",
    "    return shapes"
   ]
  },
  {
   "cell_type": "code",
   "execution_count": 178,
   "id": "97addd4e",
   "metadata": {},
   "outputs": [
    {
     "data": {
      "text/plain": [
       "[{'type': 'Polygon',\n",
       "  'coordinates': [[(502758.44937599264, 5476569.740727991),\n",
       "    (501855.76623742096, 5473777.949417481),\n",
       "    (501784.2400102755, 5473825.760854486),\n",
       "    (501781.28558668215, 5473827.762737835),\n",
       "    (501781.24213962536, 5473827.7920112945),\n",
       "    (501690.2443702696, 5473888.757900199),\n",
       "    (501687.28558669053, 5473890.762737831),\n",
       "    (501687.24213962536, 5473890.792011296),\n",
       "    (501596.2443700712, 5473951.757900339),\n",
       "    (501593.2855866896, 5473953.762737831),\n",
       "    (501593.2421396272, 5473953.792011296),\n",
       "    (501502.2443702556, 5474014.757900214),\n",
       "    (501499.2855866868, 5474016.762737833),\n",
       "    (501499.24278540723, 5474016.791578606),\n",
       "    (501411.24469174445, 5474075.757682376),\n",
       "    (501408.28558669705, 5474077.762737831),\n",
       "    (501408.2441468155, 5474077.790666187),\n",
       "    (501331.71314323787, 5474129.091034034),\n",
       "    (501354.1749088848, 5474197.33841053),\n",
       "    (501354.1872997964, 5474197.37631315),\n",
       "    (501355.1591989761, 5474200.369452847),\n",
       "    (501396.1700143004, 5474324.323577939),\n",
       "    (501396.18729980197, 5474324.376313161),\n",
       "    (501397.15919894166, 5474327.369452748),\n",
       "    (501438.1700142976, 5474451.323577946),\n",
       "    (501438.1872997945, 5474451.3763131555),\n",
       "    (501439.15919905156, 5474454.369453086),\n",
       "    (501480.17001429666, 5474578.323577944),\n",
       "    (501480.1872997936, 5474578.376313154),\n",
       "    (501481.1591990506, 5474581.369453084),\n",
       "    (501522.1700142976, 5474705.323577939),\n",
       "    (501522.1872997973, 5474705.376313157),\n",
       "    (501523.15919897426, 5474708.369452851),\n",
       "    (501564.17001429666, 5474832.323577946),\n",
       "    (501564.1872997964, 5474832.3763131555),\n",
       "    (501565.1591989333, 5474835.36945273),\n",
       "    (501606.1700142985, 5474959.323577944),\n",
       "    (501606.18729979545, 5474959.376313154),\n",
       "    (501607.15919893235, 5474962.369452728),\n",
       "    (501648.1700142948, 5475086.323577944),\n",
       "    (501648.1872997945, 5475086.376313157),\n",
       "    (501649.15919897147, 5475089.36945286),\n",
       "    (501690.17001429666, 5475213.323577946),\n",
       "    (501690.18729979545, 5475213.376313165),\n",
       "    (501691.1591988951, 5475216.369452624),\n",
       "    (501732.1700142957, 5475340.323577944),\n",
       "    (501732.1872997917, 5475340.376313154),\n",
       "    (501733.1591988541, 5475343.369452493),\n",
       "    (501774.1700142948, 5475467.323577944),\n",
       "    (501774.1872997936, 5475467.376313157),\n",
       "    (501775.15919897053, 5475470.36945286),\n",
       "    (501816.1700142957, 5475594.323577952),\n",
       "    (501816.1872997945, 5475594.376313165),\n",
       "    (501817.1591989724, 5475597.369452862),\n",
       "    (501858.17001429293, 5475721.32357795),\n",
       "    (501858.18729978893, 5475721.376313157),\n",
       "    (501859.15919884946, 5475724.369452493),\n",
       "    (501900.17001429386, 5475848.323577944),\n",
       "    (501900.18729979265, 5475848.376313161),\n",
       "    (501901.15919897053, 5475851.369452864),\n",
       "    (501942.17001429293, 5475975.323577952),\n",
       "    (501942.18729978986, 5475975.376313165),\n",
       "    (501943.1591962455, 5475978.369444471),\n",
       "    (501984.8985243663, 5476104.52473305),\n",
       "    (501985.28921877936, 5476106.150743401),\n",
       "    (501985.4034864226, 5476107.81912426),\n",
       "    (501985.2381317424, 5476109.483218494),\n",
       "    (501984.79777896794, 5476111.096488843),\n",
       "    (501984.09474279266, 5476112.613819368),\n",
       "    (501983.1486839872, 5476113.992777135),\n",
       "    (501981.98605957616, 5476115.194798876),\n",
       "    (501980.6393829531, 5476116.1862694295),\n",
       "    (501979.14631462726, 5476116.93946181),\n",
       "    (501977.54860902764, 5476117.4333126005),\n",
       "    (501975.67652339116, 5476117.844233079),\n",
       "    (501974.4253125992, 5476118.39779149),\n",
       "    (501973.1099768868, 5476118.77441773),\n",
       "    (501827.1789886411, 5476149.943684021),\n",
       "    (501159.5001053903, 5476292.552605942),\n",
       "    (501193.5839740671, 5476360.030261664),\n",
       "    (501433.9045944791, 5476835.805832818),\n",
       "    (501487.3603092674, 5476825.072558379),\n",
       "    (501523.5846740827, 5476817.799134936),\n",
       "    (501643.6891069962, 5476793.683587242),\n",
       "    (501648.65114349127, 5476792.66782918),\n",
       "    (501648.68818564434, 5476792.6603193395),\n",
       "    (501877.6891889516, 5476746.683570461),\n",
       "    (501882.65114349034, 5476745.667829178),\n",
       "    (501882.6880234722, 5476745.6603518985),\n",
       "    (502106.6891082395, 5476700.683586983),\n",
       "    (502111.6511434838, 5476699.667829178),\n",
       "    (502111.6880234694, 5476699.6603518985),\n",
       "    (502335.6891081231, 5476654.683587009),\n",
       "    (502340.6511434829, 5476653.667829178),\n",
       "    (502340.68802346755, 5476653.6603518985),\n",
       "    (502564.68910823483, 5476608.683586983),\n",
       "    (502569.65114347916, 5476607.667829178),\n",
       "    (502569.6870958498, 5476607.660538202),\n",
       "    (502758.44937599264, 5476569.740727991)]]}]"
      ]
     },
     "metadata": {},
     "output_type": "display_data"
    },
    {
     "data": {
      "text/plain": [
       "list"
      ]
     },
     "execution_count": 178,
     "metadata": {},
     "output_type": "execute_result"
    }
   ],
   "source": [
    "#call function - output should be paired coordinates, if you have a z value go back a step a re-export shapefile with no z value\n",
    "mask_coords = coords(no_snow_mask)\n",
    "display(mask_coords)\n",
    "type(mask_coords)"
   ]
  },
  {
   "cell_type": "code",
   "execution_count": 179,
   "id": "35fdb8a4",
   "metadata": {},
   "outputs": [],
   "source": [
    "#function to open masked array\n",
    "def open_masked_raster_array(tif):\n",
    "    with rio.open(tif) as src:\n",
    "        raster_image, raster_transform = rio.mask.mask(src, mask_coords, crop=True)\n",
    "        raster_image = raster_image.squeeze()\n",
    "        return raster_image"
   ]
  },
  {
   "cell_type": "code",
   "execution_count": 180,
   "id": "8671ffc4",
   "metadata": {},
   "outputs": [],
   "source": [
    "snow_depth = open_masked_raster_array(snow_depth)\n",
    "land_cover = open_masked_raster_array(land_cover)"
   ]
  },
  {
   "cell_type": "code",
   "execution_count": 181,
   "id": "3fd466c6",
   "metadata": {},
   "outputs": [
    {
     "data": {
      "text/plain": [
       "array([[-3.4028235e+38, -3.4028235e+38, -3.4028235e+38, ...,\n",
       "        -3.4028235e+38, -3.4028235e+38, -3.4028235e+38],\n",
       "       [-3.4028235e+38, -3.4028235e+38, -3.4028235e+38, ...,\n",
       "        -3.4028235e+38, -3.4028235e+38, -3.4028235e+38],\n",
       "       [-3.4028235e+38, -3.4028235e+38, -3.4028235e+38, ...,\n",
       "        -3.4028235e+38, -3.4028235e+38, -3.4028235e+38],\n",
       "       ...,\n",
       "       [-3.4028235e+38, -3.4028235e+38, -3.4028235e+38, ...,\n",
       "        -3.4028235e+38, -3.4028235e+38, -3.4028235e+38],\n",
       "       [-3.4028235e+38, -3.4028235e+38, -3.4028235e+38, ...,\n",
       "        -3.4028235e+38, -3.4028235e+38, -3.4028235e+38],\n",
       "       [-3.4028235e+38, -3.4028235e+38, -3.4028235e+38, ...,\n",
       "        -3.4028235e+38, -3.4028235e+38, -3.4028235e+38]], dtype=float32)"
      ]
     },
     "metadata": {},
     "output_type": "display_data"
    },
    {
     "data": {
      "text/plain": [
       "<matplotlib.image.AxesImage at 0x26393372320>"
      ]
     },
     "execution_count": 181,
     "metadata": {},
     "output_type": "execute_result"
    },
    {
     "data": {
      "image/png": "[encoded data removed]",
      "text/plain": [
       "<Figure size 432x288 with 1 Axes>"
      ]
     },
     "metadata": {
      "needs_background": "light"
     },
     "output_type": "display_data"
    }
   ],
   "source": [
    "display(snow_depth)\n",
    "plt.imshow(snow_depth)"
   ]
  },
  {
   "cell_type": "code",
   "execution_count": 182,
   "id": "4231c678",
   "metadata": {},
   "outputs": [
    {
     "data": {
      "text/plain": [
       "array([[-128, -128, -128, ..., -128, -128, -128],\n",
       "       [-128, -128, -128, ..., -128, -128, -128],\n",
       "       [-128, -128, -128, ..., -128, -128, -128],\n",
       "       ...,\n",
       "       [-128, -128, -128, ..., -128, -128, -128],\n",
       "       [-128, -128, -128, ..., -128, -128, -128],\n",
       "       [-128, -128, -128, ..., -128, -128, -128]], dtype=int8)"
      ]
     },
     "metadata": {},
     "output_type": "display_data"
    },
    {
     "data": {
      "text/plain": [
       "(3059, 1600)"
      ]
     },
     "metadata": {},
     "output_type": "display_data"
    },
    {
     "data": {
      "text/plain": [
       "(3059, 1600)"
      ]
     },
     "metadata": {},
     "output_type": "display_data"
    },
    {
     "data": {
      "image/png": "[encoded data removed]",
      "text/plain": [
       "<Figure size 432x288 with 1 Axes>"
      ]
     },
     "metadata": {
      "needs_background": "light"
     },
     "output_type": "display_data"
    }
   ],
   "source": [
    "display(land_cover)\n",
    "plt.imshow(land_cover)\n",
    "display(land_cover.shape)\n",
    "#display(mask_coords.shape)\n",
    "display(snow_depth.shape)"
   ]
  },
  {
   "cell_type": "code",
   "execution_count": 183,
   "id": "fd055831",
   "metadata": {},
   "outputs": [],
   "source": [
    "land_cover = land_cover.astype(np.float64)\n",
    "snow_depth[(land_cover == -128.0)|(snow_depth == np.nan)]=np.nan\n",
    "land_cover[(land_cover == -128.0)|(snow_depth == np.nan)]=np.nan\n"
   ]
  },
  {
   "cell_type": "code",
   "execution_count": 184,
   "id": "fb691b95",
   "metadata": {},
   "outputs": [
    {
     "data": {
      "text/plain": [
       "array([[nan, nan, nan, ..., nan, nan, nan],\n",
       "       [nan, nan, nan, ..., nan, nan, nan],\n",
       "       [nan, nan, nan, ..., nan, nan, nan],\n",
       "       ...,\n",
       "       [nan, nan, nan, ..., nan, nan, nan],\n",
       "       [nan, nan, nan, ..., nan, nan, nan],\n",
       "       [nan, nan, nan, ..., nan, nan, nan]])"
      ]
     },
     "metadata": {},
     "output_type": "display_data"
    },
    {
     "data": {
      "text/plain": [
       "array([[nan, nan, nan, ..., nan, nan, nan],\n",
       "       [nan, nan, nan, ..., nan, nan, nan],\n",
       "       [nan, nan, nan, ..., nan, nan, nan],\n",
       "       ...,\n",
       "       [nan, nan, nan, ..., nan, nan, nan],\n",
       "       [nan, nan, nan, ..., nan, nan, nan],\n",
       "       [nan, nan, nan, ..., nan, nan, nan]], dtype=float32)"
      ]
     },
     "metadata": {},
     "output_type": "display_data"
    }
   ],
   "source": [
    "display(land_cover)\n",
    "display(snow_depth)"
   ]
  },
  {
   "cell_type": "code",
   "execution_count": 185,
   "id": "6d8f3607",
   "metadata": {},
   "outputs": [],
   "source": [
    "#unravel\n",
    "land_cover = np.ravel(land_cover)\n",
    "snow_depth = np.ravel(snow_depth)"
   ]
  },
  {
   "cell_type": "code",
   "execution_count": 186,
   "id": "efd97ef2",
   "metadata": {},
   "outputs": [
    {
     "data": {
      "text/html": [
       "<div>\n",
       "<style scoped>\n",
       "    .dataframe tbody tr th:only-of-type {\n",
       "        vertical-align: middle;\n",
       "    }\n",
       "\n",
       "    .dataframe tbody tr th {\n",
       "        vertical-align: top;\n",
       "    }\n",
       "\n",
       "    .dataframe thead th {\n",
       "        text-align: right;\n",
       "    }\n",
       "</style>\n",
       "<table border=\"1\" class=\"dataframe\">\n",
       "  <thead>\n",
       "    <tr style=\"text-align: right;\">\n",
       "      <th></th>\n",
       "      <th>LC</th>\n",
       "      <th>SD</th>\n",
       "    </tr>\n",
       "  </thead>\n",
       "  <tbody>\n",
       "    <tr>\n",
       "      <th>0</th>\n",
       "      <td>NaN</td>\n",
       "      <td>NaN</td>\n",
       "    </tr>\n",
       "    <tr>\n",
       "      <th>1</th>\n",
       "      <td>NaN</td>\n",
       "      <td>NaN</td>\n",
       "    </tr>\n",
       "    <tr>\n",
       "      <th>2</th>\n",
       "      <td>NaN</td>\n",
       "      <td>NaN</td>\n",
       "    </tr>\n",
       "    <tr>\n",
       "      <th>3</th>\n",
       "      <td>NaN</td>\n",
       "      <td>NaN</td>\n",
       "    </tr>\n",
       "    <tr>\n",
       "      <th>4</th>\n",
       "      <td>NaN</td>\n",
       "      <td>NaN</td>\n",
       "    </tr>\n",
       "    <tr>\n",
       "      <th>...</th>\n",
       "      <td>...</td>\n",
       "      <td>...</td>\n",
       "    </tr>\n",
       "    <tr>\n",
       "      <th>4894395</th>\n",
       "      <td>NaN</td>\n",
       "      <td>NaN</td>\n",
       "    </tr>\n",
       "    <tr>\n",
       "      <th>4894396</th>\n",
       "      <td>NaN</td>\n",
       "      <td>NaN</td>\n",
       "    </tr>\n",
       "    <tr>\n",
       "      <th>4894397</th>\n",
       "      <td>NaN</td>\n",
       "      <td>NaN</td>\n",
       "    </tr>\n",
       "    <tr>\n",
       "      <th>4894398</th>\n",
       "      <td>NaN</td>\n",
       "      <td>NaN</td>\n",
       "    </tr>\n",
       "    <tr>\n",
       "      <th>4894399</th>\n",
       "      <td>NaN</td>\n",
       "      <td>NaN</td>\n",
       "    </tr>\n",
       "  </tbody>\n",
       "</table>\n",
       "<p>4894400 rows × 2 columns</p>\n",
       "</div>"
      ],
      "text/plain": [
       "         LC  SD\n",
       "0       NaN NaN\n",
       "1       NaN NaN\n",
       "2       NaN NaN\n",
       "3       NaN NaN\n",
       "4       NaN NaN\n",
       "...      ..  ..\n",
       "4894395 NaN NaN\n",
       "4894396 NaN NaN\n",
       "4894397 NaN NaN\n",
       "4894398 NaN NaN\n",
       "4894399 NaN NaN\n",
       "\n",
       "[4894400 rows x 2 columns]"
      ]
     },
     "metadata": {},
     "output_type": "display_data"
    },
    {
     "data": {
      "text/html": [
       "<div>\n",
       "<style scoped>\n",
       "    .dataframe tbody tr th:only-of-type {\n",
       "        vertical-align: middle;\n",
       "    }\n",
       "\n",
       "    .dataframe tbody tr th {\n",
       "        vertical-align: top;\n",
       "    }\n",
       "\n",
       "    .dataframe thead th {\n",
       "        text-align: right;\n",
       "    }\n",
       "</style>\n",
       "<table border=\"1\" class=\"dataframe\">\n",
       "  <thead>\n",
       "    <tr style=\"text-align: right;\">\n",
       "      <th></th>\n",
       "      <th>LC</th>\n",
       "      <th>SD</th>\n",
       "    </tr>\n",
       "  </thead>\n",
       "  <tbody>\n",
       "    <tr>\n",
       "      <th>275</th>\n",
       "      <td>30.0</td>\n",
       "      <td>0.738098</td>\n",
       "    </tr>\n",
       "    <tr>\n",
       "      <th>1874</th>\n",
       "      <td>30.0</td>\n",
       "      <td>0.780273</td>\n",
       "    </tr>\n",
       "    <tr>\n",
       "      <th>1875</th>\n",
       "      <td>30.0</td>\n",
       "      <td>0.701111</td>\n",
       "    </tr>\n",
       "    <tr>\n",
       "      <th>1876</th>\n",
       "      <td>30.0</td>\n",
       "      <td>0.640564</td>\n",
       "    </tr>\n",
       "    <tr>\n",
       "      <th>1877</th>\n",
       "      <td>30.0</td>\n",
       "      <td>0.680969</td>\n",
       "    </tr>\n",
       "    <tr>\n",
       "      <th>...</th>\n",
       "      <td>...</td>\n",
       "      <td>...</td>\n",
       "    </tr>\n",
       "    <tr>\n",
       "      <th>4888697</th>\n",
       "      <td>20.0</td>\n",
       "      <td>-0.267853</td>\n",
       "    </tr>\n",
       "    <tr>\n",
       "      <th>4890294</th>\n",
       "      <td>20.0</td>\n",
       "      <td>0.121307</td>\n",
       "    </tr>\n",
       "    <tr>\n",
       "      <th>4890295</th>\n",
       "      <td>20.0</td>\n",
       "      <td>-0.009262</td>\n",
       "    </tr>\n",
       "    <tr>\n",
       "      <th>4890296</th>\n",
       "      <td>20.0</td>\n",
       "      <td>-0.113586</td>\n",
       "    </tr>\n",
       "    <tr>\n",
       "      <th>4891896</th>\n",
       "      <td>20.0</td>\n",
       "      <td>-0.242111</td>\n",
       "    </tr>\n",
       "  </tbody>\n",
       "</table>\n",
       "<p>2052999 rows × 2 columns</p>\n",
       "</div>"
      ],
      "text/plain": [
       "           LC        SD\n",
       "275      30.0  0.738098\n",
       "1874     30.0  0.780273\n",
       "1875     30.0  0.701111\n",
       "1876     30.0  0.640564\n",
       "1877     30.0  0.680969\n",
       "...       ...       ...\n",
       "4888697  20.0 -0.267853\n",
       "4890294  20.0  0.121307\n",
       "4890295  20.0 -0.009262\n",
       "4890296  20.0 -0.113586\n",
       "4891896  20.0 -0.242111\n",
       "\n",
       "[2052999 rows x 2 columns]"
      ]
     },
     "metadata": {},
     "output_type": "display_data"
    }
   ],
   "source": [
    "#Convert the unravelled arrays into a data frame form\n",
    "df = pd.DataFrame({\"LC\": land_cover, \"SD\": snow_depth})\n",
    "display(df)\n",
    "df = df.dropna()\n",
    "display(df)"
   ]
  },
  {
   "cell_type": "code",
   "execution_count": 193,
   "id": "e4953102",
   "metadata": {},
   "outputs": [
    {
     "data": {
      "text/plain": [
       "LC\n",
       "-2.0     0.344421\n",
       "-1.0     0.330002\n",
       " 0.0     0.350006\n",
       " 5.0     0.310013\n",
       " 10.0    0.296997\n",
       " 20.0    0.310013\n",
       " 30.0    0.353806\n",
       " 40.0    0.393005\n",
       " 50.0    0.410004\n",
       " 80.0    0.304321\n",
       "Name: SD, dtype: float32"
      ]
     },
     "metadata": {},
     "output_type": "display_data"
    },
    {
     "data": {
      "text/plain": [
       "LC\n",
       "-2.0     0.209991\n",
       "-1.0     0.080017\n",
       " 0.0     0.172302\n",
       " 5.0     0.195892\n",
       " 10.0    0.198242\n",
       " 20.0    0.253044\n",
       " 30.0    0.360470\n",
       " 40.0    0.423252\n",
       " 50.0    0.481705\n",
       " 80.0    0.358330\n",
       "Name: SD, dtype: float64"
      ]
     },
     "metadata": {},
     "output_type": "display_data"
    },
    {
     "data": {
      "text/plain": [
       "LC\n",
       "-2.0    -2.031794e+35\n",
       "-1.0    -3.356421e+34\n",
       " 0.0    -6.539044e+34\n",
       " 5.0    -1.208103e+35\n",
       " 10.0   -9.704005e+34\n",
       " 20.0   -1.077528e+35\n",
       " 30.0   -1.187505e+35\n",
       " 40.0   -1.440802e+35\n",
       " 50.0   -1.560715e+35\n",
       " 80.0   -8.934422e+34\n",
       "Name: SD, dtype: float32"
      ]
     },
     "metadata": {},
     "output_type": "display_data"
    }
   ],
   "source": [
    "median = df.groupby(by=\"LC\")[\"SD\"].median()\n",
    "display(median)\n",
    "iqr    = df.groupby(by='LC')['SD'].quantile(0.75) - df.groupby(by='LC')['SD'].quantile(0.25)\n",
    "display(iqr)\n",
    "mean = df.groupby(by=\"LC\")[\"SD\"].mean()\n",
    "display(mean)\n",
    "mean.to_csv(\"test_mean.csv\")"
   ]
  }
 ],
 "metadata": {
  "kernelspec": {
   "display_name": "Python 3 (ipykernel)",
   "language": "python",
   "name": "python3"
  },
  "language_info": {
   "codemirror_mode": {
    "name": "ipython",
    "version": 3
   },
   "file_extension": ".py",
   "mimetype": "text/x-python",
   "name": "python",
   "nbconvert_exporter": "python",
   "pygments_lexer": "ipython3",
   "version": "3.10.2"
  }
 },
 "nbformat": 4,
 "nbformat_minor": 5
}
