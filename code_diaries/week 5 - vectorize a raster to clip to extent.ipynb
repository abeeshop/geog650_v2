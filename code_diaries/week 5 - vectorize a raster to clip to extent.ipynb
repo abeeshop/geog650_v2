{
 "cells": [
  {
   "cell_type": "markdown",
   "id": "54b81ac3",
   "metadata": {},
   "source": [
    "## Goal: To subtract rasters, but have a means to clip to different extent if the shapes are not the same size"
   ]
  },
  {
   "cell_type": "code",
   "execution_count": 4,
   "id": "a9b41807",
   "metadata": {},
   "outputs": [],
   "source": [
    "from osgeo import gdal\n",
    "import matplotlib.pyplot as plt\n",
    "import numpy as np\n",
    "import rasterio as rio\n",
    "from rasterio.plot import show\n",
    "from rasterio.mask import mask\n",
    "import pandas as pd\n",
    "import geopandas as gpd\n",
    "from shapely.geometry import box\n",
    "import fiona\n",
    "from shapely.geometry import mapping, Polygon\n",
    "import os\n",
    "from scipy import sparse\n",
    "%matplotlib inline"
   ]
  },
  {
   "cell_type": "code",
   "execution_count": 7,
   "id": "f0bfd454",
   "metadata": {},
   "outputs": [],
   "source": [
    "#change these variables dependent on wshed and phase\n",
    "single_phase = \"P05\"\n",
    "#change to no if only doing a single file\n",
    "multiple = \"no\"\n",
    "wshed = \"VAN\"\n",
    "\n",
    "#file directories for metrovan, would be best to put all in a dictionary\n",
    "phase_list = [\"P01\",\"P02\", \"P03\", \"P04\", \"P05\"]\n",
    "DEM_list = {\"VAN\" : {\"BE\" : r\"H:\\Metro-Van\\2021\\DEM\\Baseline_Master_Dataset_WGS84\\VAN_snowfree_merged_wgs84_utm10_itrf08_epoch2002_dz20cm_1mDEM.tif\",\n",
    "                     \"STM\" : r\"H:\\Metro-Van\\2021\\DEM\\Coreg_STM\\VAN_\" + single_phase + \"_coregSTM.tif\"},\n",
    "           \"EGM\" : {\"BE\" : r\"H:\\Englishman\\2021\\DEMs\\Baseline Master Dataset - WGS84\\00_3012_00_bare_earth_snowfree_wgs84_ellips_utmz10_1mDEM.tif\",\n",
    "                   \"STM\" : r\"H:\\Englishman\\2021\\DEMs\\co-registered_STM\\EGM_\" + single_phase + \"_coregSTM.tif\"}}\n",
    "outdirectory = {\"VAN\" : r\"H:\\\\Metro-Van\\\\2021\\GIS\\snow_depth_rasters\", \n",
    "                \"EGM\" : r\"H:\\Englishman\\2021\\GIS\\sd_rasters\"\n",
    "               }"
   ]
  },
  {
   "cell_type": "code",
   "execution_count": 8,
   "id": "d5f6c96e",
   "metadata": {},
   "outputs": [],
   "source": [
    "# BE and STM are the two rasters which will be calculating with\n",
    "BE = rio.open(DEM_list[wshed][\"BE\"])\n",
    "BE_meta = BE.meta\n",
    "STM = rio.open(DEM_list[wshed][\"STM\"])\n",
    "out_directory= outdirectory[wshed]"
   ]
  },
  {
   "cell_type": "code",
   "execution_count": 9,
   "id": "fa097b58",
   "metadata": {},
   "outputs": [],
   "source": [
    "#parse the bouding box to math style required for rasterio, called from within intersection function\n",
    "def getFeatures(geo):\n",
    "    import json\n",
    "    return [json.loads(geo.to_json())['features'][0]['geometry']]"
   ]
  },
  {
   "cell_type": "code",
   "execution_count": 28,
   "id": "9994a504",
   "metadata": {},
   "outputs": [],
   "source": [
    "#First find the intersection points of bounding box\n",
    "def intersection(BE, STM):\n",
    "    bb_BE = box(BE.bounds[0], BE.bounds[1], BE.bounds[2], BE.bounds[3])\n",
    "    bb_STM = box(STM.bounds[0], STM.bounds[1], STM.bounds[2], STM.bounds[3])\n",
    "    #display(bb_BE)\n",
    "    #display(bb_STM)\n",
    "    bbox = bb_BE.intersection(bb_STM)\n",
    "    bbox_bounds = bbox.bounds\n",
    "    bbox_max_x = bbox.bounds[1]\n",
    "    display(bbox_bounds)\n",
    "    display(bbox_max_x)\n",
    "    display(bbox)\n",
    "    geo  = gpd.GeoDataFrame({'geometry': bbox}, index=[0])\n",
    "    print(geo)\n",
    "    geo = getFeatures(geo)\n",
    "    return geo"
   ]
  },
  {
   "cell_type": "code",
   "execution_count": 11,
   "id": "48b85f82",
   "metadata": {},
   "outputs": [],
   "source": [
    "def subtract_rasters (BE,BE_meta,STM,out_directory,wshed,phase):\n",
    "    BE = src.read(1, masked=True).squeeze()\n",
    "    display(BE)\n",
    "    with rio.open(STM) as src:\n",
    "        STM = src.read(1, masked=True).squeeze()\n",
    "        SD = STM - BE\n",
    "        os.chdir(outdirectory)\n",
    "        outname = wshed + \"_\" + phase + \"_sd_raw.csv\"\n",
    "    print(\"savng file as..\" + str(outname))\n",
    "    with rio.open(outname, \"w\", **BE_meta) as dst:\n",
    "        dst.write(SD, 1)"
   ]
  },
  {
   "cell_type": "code",
   "execution_count": 12,
   "id": "f9676009",
   "metadata": {},
   "outputs": [],
   "source": [
    "def open_masked_raster_array(tif, coords):\n",
    "        raster, raster_crs = rio.mask.mask(tif, coords, crop=True)\n",
    "        \n",
    "        return raster"
   ]
  },
  {
   "cell_type": "code",
   "execution_count": 13,
   "id": "d7e60be7",
   "metadata": {},
   "outputs": [],
   "source": [
    "def subtract_arrays(BE,BE_meta,STM,out_directory,wshed,phase):\n",
    "    BE = BE[0,:,:]\n",
    "    BE[BE < 0] = np.nan\n",
    "    STM = STM[0,:,:]\n",
    "    STM[STM < 0] = np.nan\n",
    "    display(BE.shape)\n",
    "    display(STM.shape)\n",
    "    print(\"subtracting....\")\n",
    "    SD = STM - BE \n",
    "    os.chdir(out_directory)\n",
    "    print(\"updating meta date - dimensions...\")\n",
    "    BE_meta.update(({\"driver\": \"GTiff\",\n",
    "                 \"height\": SD.shape[0],\n",
    "                 \"width\": SD.shape[1]}))\n",
    "    outname = wshed + \"_\" + phase + \"_sd_raw.tif\"\n",
    "    print(\"writing snow depth raster to file:\" + str(outname))\n",
    "    with rio.open(outname, \"w\", **BE_meta) as dst:\n",
    "        dst.write(SD, 1)"
   ]
  },
  {
   "cell_type": "code",
   "execution_count": 14,
   "id": "d8ee0ab9",
   "metadata": {
    "scrolled": true
   },
   "outputs": [],
   "source": [
    "def decision_tree(STM,BE,phase):\n",
    "    if STM.shape == BE.shape:\n",
    "        #call function to subtract rasters\n",
    "        print(\"Same size rasters... proceesing w. subtraction\")\n",
    "        subtract_rasters(BE,BE_meta,STM,outdirectory, wshed,phase)\n",
    "    else:\n",
    "        print(\"Rasters are different sizes, uh oh..\")\n",
    "        #if false then will first call function to change size to smaller bounds\n",
    "        print(\"creating bounding box...\")\n",
    "        coords = intersection(BE,STM)\n",
    "        display(coords)\n",
    "        print(\"Masking bare earth to bounding box...\")\n",
    "        BE = open_masked_raster_array(BE,coords)\n",
    "        print(\"Masking STM to bounding box...\")\n",
    "        STM = open_masked_raster_array(STM,coords)\n",
    "        print(\"Subtracting raster arrays...\")\n",
    "        print(BE)\n",
    "        subtract_arrays(BE,BE_meta,STM, out_directory, wshed, phase) \n",
    "        print(\"Snow depth raster created..\")\n",
    "    return BE, STM"
   ]
  },
  {
   "cell_type": "code",
   "execution_count": 22,
   "id": "36decc55",
   "metadata": {},
   "outputs": [],
   "source": [
    "#Batch subtracting rasters\n",
    "def file_loop (multiple, phase_list,STM):\n",
    "    if multiple == \"yes\":\n",
    "        for i in phase_list:\n",
    "            phase = i\n",
    "            DEM_list = {\"VAN\" : {\"BE\" : r\"H:\\Metro-Van\\2021\\DEM\\Baseline_Master_Dataset_WGS84\\VAN_snowfree_merged_wgs84_utm10_itrf08_epoch2002_dz20cm_1mDEM.tif\",\n",
    "                        \"STM\" : r\"H:\\Metro-Van\\2021\\DEM\\Coreg_STM\\VAN_\" + phase + \"_coregSTM.tif\"},\n",
    "                       \"EGM\" : {\"BE\" : r\"H:\\Englishman\\2021\\DEMs\\Baseline Master Dataset - WGS84\\00_3012_00_bare_earth_snowfree_wgs84_ellips_utmz10_1mDEM.tif\",\n",
    "                       \"STM\" : r\"H:\\Englishman\\2021\\DEMs\\co-registered_STM\\EGM_\" + phase + \"_coregSTM.tif\"}}\n",
    "           \n",
    "            print(\"processing... phase \" + str(phase))\n",
    "            STM = rio.open(DEM_list[wshed][\"STM\"])\n",
    "            decision_tree(STM,BE,phase)\n",
    "    else:\n",
    "        phase = single_phase\n",
    "        DEM_list = {\"VAN\" : {\"BE\" : r\"H:\\Metro-Van\\2021\\DEM\\Baseline_Master_Dataset_WGS84\\VAN_snowfree_merged_wgs84_utm10_itrf08_epoch2002_dz20cm_1mDEM.tif\",\n",
    "                     \"STM\" : r\"H:\\Metro-Van\\2021\\DEM\\Coreg_STM\\VAN_\" + single_phase + \"_coregSTM.tif\"},\n",
    "           \"EGM\" : {\"BE\" : r\"H:\\Englishman\\2021\\DEMs\\Baseline Master Dataset - WGS84\\00_3012_00_bare_earth_snowfree_wgs84_ellips_utmz10_1mDEM.tif\",\n",
    "                   \"STM\" : r\"H:\\Englishman\\2021\\DEMs\\co-registered_STM\\EGM_\" + single_phase + \"_coregSTM.tif\"}}\n",
    "        \n",
    "        STM = rio.open(DEM_list[wshed][\"STM\"])\n",
    "        print(\"processing... phase \" + str(phase))\n",
    "        decision_tree(STM,BE,phase)\n",
    "    return BE, STM"
   ]
  },
  {
   "cell_type": "code",
   "execution_count": 27,
   "id": "23ca95a8",
   "metadata": {},
   "outputs": [
    {
     "name": "stdout",
     "output_type": "stream",
     "text": [
      "processing... phase P05\n",
      "Rasters are different sizes, uh oh..\n",
      "creating bounding box...\n"
     ]
    },
    {
     "data": {
      "text/plain": [
       "492554.0"
      ]
     },
     "metadata": {},
     "output_type": "display_data"
    },
    {
     "data": {
      "text/plain": [
       "5472527.0"
      ]
     },
     "metadata": {},
     "output_type": "display_data"
    },
    {
     "data": {
      "image/svg+xml": [
       "<svg xmlns=\"http://www.w3.org/2000/svg\" xmlns:xlink=\"http://www.w3.org/1999/xlink\" width=\"300\" height=\"300\" viewBox=\"491653.84 5471626.84 13161.319999999949 24304.320000000298\" preserveAspectRatio=\"xMinYMin meet\"><g transform=\"matrix(1,0,0,-1,0,10967558.0)\"><path fill-rule=\"evenodd\" fill=\"#66cc99\" stroke=\"#555555\" stroke-width=\"162.02880000000198\" opacity=\"0.6\" d=\"M 503915.0,5495031.0 L 503915.0,5472527.0 L 492554.0,5472527.0 L 492554.0,5495031.0 L 503915.0,5495031.0 z\" /></g></svg>"
      ],
      "text/plain": [
       "<shapely.geometry.polygon.Polygon at 0x1310f6bcf40>"
      ]
     },
     "metadata": {},
     "output_type": "display_data"
    },
    {
     "name": "stdout",
     "output_type": "stream",
     "text": [
      "                                            geometry\n",
      "0  POLYGON ((503915.000 5495031.000, 503915.000 5...\n"
     ]
    },
    {
     "data": {
      "text/plain": [
       "[{'type': 'Polygon',\n",
       "  'coordinates': [[[503915.0, 5495031.0],\n",
       "    [503915.0, 5472527.0],\n",
       "    [492554.0, 5472527.0],\n",
       "    [492554.0, 5495031.0],\n",
       "    [503915.0, 5495031.0]]]}]"
      ]
     },
     "metadata": {},
     "output_type": "display_data"
    },
    {
     "name": "stdout",
     "output_type": "stream",
     "text": [
      "Masking bare earth to bounding box...\n",
      "Masking STM to bounding box...\n",
      "Subtracting raster arrays...\n",
      "[[[-9999. -9999. -9999. ... -9999. -9999. -9999.]\n",
      "  [-9999. -9999. -9999. ... -9999. -9999. -9999.]\n",
      "  [-9999. -9999. -9999. ... -9999. -9999. -9999.]\n",
      "  ...\n",
      "  [-9999. -9999. -9999. ... -9999. -9999. -9999.]\n",
      "  [-9999. -9999. -9999. ... -9999. -9999. -9999.]\n",
      "  [-9999. -9999. -9999. ... -9999. -9999. -9999.]]]\n"
     ]
    },
    {
     "data": {
      "text/plain": [
       "(22504, 11361)"
      ]
     },
     "metadata": {},
     "output_type": "display_data"
    },
    {
     "data": {
      "text/plain": [
       "(22504, 11361)"
      ]
     },
     "metadata": {},
     "output_type": "display_data"
    },
    {
     "name": "stdout",
     "output_type": "stream",
     "text": [
      "subtracting....\n",
      "updating meta date - dimensions...\n",
      "writing snow depth raster to file:VAN_P05_sd_raw.tif\n",
      "Snow depth raster created..\n"
     ]
    },
    {
     "data": {
      "text/plain": [
       "(<open DatasetReader name='H:/Metro-Van/2021/DEM/Baseline_Master_Dataset_WGS84/VAN_snowfree_merged_wgs84_utm10_itrf08_epoch2002_dz20cm_1mDEM.tif' mode='r'>,\n",
       " <open DatasetReader name='H:/Metro-Van/2021/DEM/Coreg_STM/VAN_P05_coregSTM.tif' mode='r'>)"
      ]
     },
     "execution_count": 27,
     "metadata": {},
     "output_type": "execute_result"
    }
   ],
   "source": [
    "file_loop(multiple,phase_list, STM)"
   ]
  },
  {
   "cell_type": "code",
   "execution_count": null,
   "id": "7c995c6c",
   "metadata": {},
   "outputs": [],
   "source": [
    "#print(BE.shape)"
   ]
  },
  {
   "cell_type": "code",
   "execution_count": null,
   "id": "5a74be36",
   "metadata": {},
   "outputs": [],
   "source": [
    "# def subtract_rasters (BE,BE_meta, STM, outdirectory, wshed, phase):\n",
    "#         BE = src.read(1, masked=True).squeeze()\n",
    "        \n",
    "#         display(BE)\n",
    "#     with rio.open(STM) as src:\n",
    "#         STM = src.read(1, masked=True).squeeze()\n",
    "#     SD = STM - BE\n",
    "#     os.chdir(outdirectory)\n",
    "#     outname = wshed + \"_\" + phase + \"_sd_raw.csv\"\n",
    "#     with rio.open(out_name, \"w\", **meta) as dst:\n",
    "#     dst.write(SD, 1)\n",
    "    "
   ]
  },
  {
   "cell_type": "code",
   "execution_count": null,
   "id": "b550fa86",
   "metadata": {},
   "outputs": [],
   "source": [
    "\n",
    "# display(BE)\n",
    "# STM = STM.read(1, masked=True)\n",
    "# display(STM)"
   ]
  },
  {
   "cell_type": "code",
   "execution_count": null,
   "id": "4b74a6d0",
   "metadata": {},
   "outputs": [],
   "source": [
    "# with rio.open(STM) as src:\n",
    "#     STM = src.read(1)\n",
    "#     STM_meta = src.meta\n",
    "#     STM_crs = src.meta\n",
    "#     display(STM)"
   ]
  },
  {
   "cell_type": "code",
   "execution_count": null,
   "id": "f4d3a1ac",
   "metadata": {},
   "outputs": [],
   "source": [
    "# display(STM.shape==BE.shape)\n",
    "\n",
    "#else will call function"
   ]
  },
  {
   "cell_type": "code",
   "execution_count": null,
   "id": "f24bec92",
   "metadata": {},
   "outputs": [],
   "source": [
    "# display(STM.bounds)"
   ]
  }
 ],
 "metadata": {
  "kernelspec": {
   "display_name": "Python 3 (ipykernel)",
   "language": "python",
   "name": "python3"
  },
  "language_info": {
   "codemirror_mode": {
    "name": "ipython",
    "version": 3
   },
   "file_extension": ".py",
   "mimetype": "text/x-python",
   "name": "python",
   "nbconvert_exporter": "python",
   "pygments_lexer": "ipython3",
   "version": "3.10.2"
  }
 },
 "nbformat": 4,
 "nbformat_minor": 5
}
