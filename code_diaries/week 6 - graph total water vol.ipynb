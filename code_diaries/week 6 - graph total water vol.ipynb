{
 "cells": [
  {
   "cell_type": "code",
   "execution_count": 3,
   "id": "e9a79e81",
   "metadata": {},
   "outputs": [],
   "source": [
    "import numpy as np\n",
    "import pandas as pd\n",
    "import seaborn as sns\n",
    "import os\n",
    "import glob\n",
    "import matplotlib.pyplot as plt"
   ]
  },
  {
   "cell_type": "code",
   "execution_count": 17,
   "id": "aa319201",
   "metadata": {},
   "outputs": [
    {
     "name": "stdout",
     "output_type": "stream",
     "text": [
      "zbin\\zbin_Seymour_all.csv\n",
      "      zbin  swe_mm  swe_lm   swe_hm   water_vol    lower_wv    upper_wv  Phase\n",
      "0    200.0  277.99  277.99   277.99    27407.23    27407.23    27407.23      1\n",
      "1    300.0  207.77  207.77   207.77   508889.16   508889.16   508889.16      1\n",
      "2    400.0  233.06  233.06   233.06   661883.67   661883.67   661883.67      1\n",
      "3    500.0  285.26  285.26   285.26   863296.93   863296.93   863296.93      1\n",
      "4    600.0  361.28  361.28   361.28  1390505.99  1390505.99  1390505.99      1\n",
      "..     ...     ...     ...      ...         ...         ...         ...    ...\n",
      "70  1200.0  537.70  498.60   576.81  3742592.03  3470403.52  4014780.55      5\n",
      "71  1300.0  728.34  675.37   781.31  3911974.76  3627467.50  4196482.01      5\n",
      "72  1400.0  912.31  845.96   978.66  2679432.02  2484564.24  2874299.80      5\n",
      "73  1500.0  907.05  841.09   973.02   804850.69   746316.09   863385.28      5\n",
      "74  1600.0  971.23  900.60  1041.87   221985.68   205841.26   238130.09      5\n",
      "\n",
      "[75 rows x 8 columns]\n"
     ]
    }
   ],
   "source": [
    "#Graph for total water volume by phase\n",
    "#group data by totals\n",
    "#create summary tables of the plots \n",
    "#set parameters, will be added to function at later date\n",
    "directory_list = {\"EGM\" : r\"H:\\Englishman\\2021\\Analysis\\swe_tables\\processing\\graphs\", \"VAN\": r\"H:\\Metro-Van\\2021\\Analysis\\swe_tables\"}\n",
    "parameter = \"zbin\"\n",
    "wshed= \"VAN\"\n",
    "subbasin = \"Seymour\"\n",
    "file = parameter + \"\\\\\" + parameter + \"_\" + subbasin + \"_all.csv\"\n",
    "print(file)\n",
    "\n",
    " \n",
    "twv_title_metrovan = \"Total Water Volume, 2021 \\n Upper Seymour\"\n",
    "out_directory_list = {\"EGM\": r\"H:\\Englishman\\2021\\Analysis\\figures\\SWE_elevation\", \n",
    "                      \"VAN\": r\"H:\\Metro-Van\\2021\\Analysis\\figures\\SWE_elevation_graphs\"}\n",
    "\n",
    "\n",
    "totalwatervol_output = \"Total Water Volume\" + wshed + \"_\" + subbasin + \".png\"\n",
    "\n",
    "os.chdir(directory_list[wshed])\n",
    "df = pd.read_csv(file)\n",
    "print(df)"
   ]
  },
  {
   "cell_type": "code",
   "execution_count": 6,
   "id": "45eea015",
   "metadata": {},
   "outputs": [],
   "source": [
    "#first need to combine csvs into one\n",
    "def combine_csv(file_name, basin, directory):\n",
    "    os.chdir(directory)\n",
    "    # Match the pattern (‘csv’) and save the list of file names in the ‘all_filenames’ variable.\n",
    "    extension = 'csv'\n",
    "    df = pd.DataFrame()\n",
    "    for item in glob.glob('*.{}'.format(extension)):\n",
    "        if basin in item:\n",
    "            file = pd.read_csv(item)\n",
    "            df = df.append(file)\n",
    "    df = df.drop_duplicates()\n",
    "    # export to csv\n",
    "    df.to_csv(file_name, index=False)\n",
    "\n",
    "#comment out if already combined\n",
    "#combine_csv(parameter + \"_\" + subbasin + \"_all.csv\",subbasin, os.path.join(directory_list[wshed],parameter))\n",
    "#print(directory_list[wshed])\n",
    "combine_csv(\"VAN_aspect_all.csv\", \"Seymour\", r\"H:\\Metro-Van\\2021\\Analysis\\swe_tables\\aspect\")"
   ]
  },
  {
   "cell_type": "code",
   "execution_count": 18,
   "id": "79918a76",
   "metadata": {},
   "outputs": [
    {
     "data": {
      "text/html": [
       "<div>\n",
       "<style scoped>\n",
       "    .dataframe tbody tr th:only-of-type {\n",
       "        vertical-align: middle;\n",
       "    }\n",
       "\n",
       "    .dataframe tbody tr th {\n",
       "        vertical-align: top;\n",
       "    }\n",
       "\n",
       "    .dataframe thead th {\n",
       "        text-align: right;\n",
       "    }\n",
       "</style>\n",
       "<table border=\"1\" class=\"dataframe\">\n",
       "  <thead>\n",
       "    <tr style=\"text-align: right;\">\n",
       "      <th></th>\n",
       "      <th>Phase</th>\n",
       "      <th>water_vol</th>\n",
       "      <th>lower_wv</th>\n",
       "      <th>upper_wv</th>\n",
       "    </tr>\n",
       "  </thead>\n",
       "  <tbody>\n",
       "    <tr>\n",
       "      <th>0</th>\n",
       "      <td>1</td>\n",
       "      <td>71104972.10</td>\n",
       "      <td>71104972.10</td>\n",
       "      <td>71104972.10</td>\n",
       "    </tr>\n",
       "    <tr>\n",
       "      <th>1</th>\n",
       "      <td>2</td>\n",
       "      <td>80157043.60</td>\n",
       "      <td>70836457.14</td>\n",
       "      <td>89477630.07</td>\n",
       "    </tr>\n",
       "    <tr>\n",
       "      <th>2</th>\n",
       "      <td>3</td>\n",
       "      <td>78491741.74</td>\n",
       "      <td>75352072.08</td>\n",
       "      <td>83201246.26</td>\n",
       "    </tr>\n",
       "    <tr>\n",
       "      <th>3</th>\n",
       "      <td>4</td>\n",
       "      <td>50195000.55</td>\n",
       "      <td>47057813.01</td>\n",
       "      <td>53332188.09</td>\n",
       "    </tr>\n",
       "    <tr>\n",
       "      <th>4</th>\n",
       "      <td>5</td>\n",
       "      <td>18457192.37</td>\n",
       "      <td>17114851.08</td>\n",
       "      <td>19799533.62</td>\n",
       "    </tr>\n",
       "  </tbody>\n",
       "</table>\n",
       "</div>"
      ],
      "text/plain": [
       "   Phase    water_vol     lower_wv     upper_wv\n",
       "0      1  71104972.10  71104972.10  71104972.10\n",
       "1      2  80157043.60  70836457.14  89477630.07\n",
       "2      3  78491741.74  75352072.08  83201246.26\n",
       "3      4  50195000.55  47057813.01  53332188.09\n",
       "4      5  18457192.37  17114851.08  19799533.62"
      ]
     },
     "metadata": {},
     "output_type": "display_data"
    }
   ],
   "source": [
    "sum = df.groupby(\n",
    "    [\"Phase\"]).agg({  \n",
    "    \"water_vol\": \"sum\",\n",
    "    \"lower_wv\": \"sum\",\n",
    "    \"upper_wv\" : \"sum\"\n",
    "}).round(2).reset_index()\n",
    "display(sum)\n",
    "#sum[\"Phase\"]= sum[\"Phase\"].astype(str)\n",
    "#name = \"summary_\" + name\n",
    "#sum.to_csv(name,index=True)"
   ]
  },
  {
   "cell_type": "code",
   "execution_count": 30,
   "id": "62b648a8",
   "metadata": {},
   "outputs": [
    {
     "data": {
      "image/png": "[encoded data removed]",
      "text/plain": [
       "<Figure size 720x432 with 1 Axes>"
      ]
     },
     "metadata": {},
     "output_type": "display_data"
    }
   ],
   "source": [
    "\n",
    "\n",
    "sns.set_style(\"darkgrid\")\n",
    "fig, ax = plt.subplots(figsize=(10,6))\n",
    "fig.set_tight_layout(True)\n",
    "color_list = sns.color_palette()[:5]\n",
    "plt.bar(sum[\"Phase\"], sum[\"water_vol\"], color=color_list)\n",
    "\n",
    "#set font sizes\n",
    "SMALL_SIZE = 12\n",
    "MEDIUM_SIZE = 14\n",
    "BIGGER_SIZE = 20\n",
    "\n",
    "plt.rc('font', size=SMALL_SIZE)          # controls default text sizes\n",
    "plt.rc('axes', titlesize=SMALL_SIZE)     # fontsize of the axes title\n",
    "plt.rc('axes', labelsize=MEDIUM_SIZE)    # fontsize of the x and y labels\n",
    "plt.rc('xtick', labelsize=SMALL_SIZE)    # fontsize of the tick labels\n",
    "plt.rc('ytick', labelsize=SMALL_SIZE)    # fontsize of the tick labels\n",
    "plt.rc('legend', fontsize=SMALL_SIZE)    # legend fontsize\n",
    "plt.rc('figure', titlesize=BIGGER_SIZE)  # fontsize of the figure title\n",
    "\n",
    "ax.set_title(totalwatervol_title, fontsize = 20)\n",
    "# including upper limits\n",
    "\n",
    "\n",
    "\n",
    "#ax.yaxis.set_ticks(np.arange(0, 1700, 200))\n",
    "\n",
    "ax.set_ylabel(\"Water Storage [$m^{3}$]\", fontsize=14)\n",
    "ax.set_xlabel(\"Phase\", fontsize=14)\n",
    "labels2021 = [\"P01:\\n March 11 2021\", \"P02:\\n April 5 2021\", \"P03:\\n April 20 2021\", \"P04:\\n May 15 2021\", \"P05:\\n June 21 2021\"]\n",
    "plt.xticks(sum.Phase, fontsize=12)\n",
    "ax.set_xticklabels(labels2021)\n",
    "\n",
    "\n",
    "\n",
    "VAN_tick_labels = [\"0\", \"10,000,000\", \"20,000,000\", \"30,000,000\", \"40,000,000\", \"50,000,000\", \"60,000,000\", \"70,000,000\", \"80,000,000\",\"90,000,000\"]\n",
    "\n",
    "#Englishman errorbars\n",
    "plt.vlines(sum[\"Phase\"],sum[\"lower_wv\"],sum[\"upper_wv\"],color=\"black\")\n",
    "plt.yticks(np.arange(0, 100000000, step=10000000),fontsize=12)\n",
    "ax.set_yticklabels(VAN_tick_labels)\n",
    "\n",
    "EGM_yticklabels = [\"0\",\"500,000\",\"1,000,000\",\"1,500,000\", \"2,000,000\", \"2,500,000\", \"3,000,000\", \"3,500,000\", \"4,000,000\", \"4,500,000\", \"5,000,000\", \"5,500,000\", \"6,000,000\",\"6,500,000\",\"7,000,000\"]\n",
    "\n",
    "os.chdir(out_directory_list[wshed])\n",
    "plt.savefig(totalwatervol_output)\n",
    "plt.show()"
   ]
  }
 ],
 "metadata": {
  "kernelspec": {
   "display_name": "Python 3 (ipykernel)",
   "language": "python",
   "name": "python3"
  },
  "language_info": {
   "codemirror_mode": {
    "name": "ipython",
    "version": 3
   },
   "file_extension": ".py",
   "mimetype": "text/x-python",
   "name": "python",
   "nbconvert_exporter": "python",
   "pygments_lexer": "ipython3",
   "version": "3.10.2"
  }
 },
 "nbformat": 4,
 "nbformat_minor": 5
}
